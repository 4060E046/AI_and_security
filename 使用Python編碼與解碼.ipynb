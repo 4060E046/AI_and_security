{
  "nbformat": 4,
  "nbformat_minor": 0,
  "metadata": {
    "colab": {
      "name": "使用Python編碼與解碼.ipynb",
      "provenance": [],
      "collapsed_sections": [],
      "authorship_tag": "ABX9TyN2ESuo3+aEdayFoRfwoW2a",
      "include_colab_link": true
    },
    "kernelspec": {
      "name": "python3",
      "display_name": "Python 3"
    }
  },
  "cells": [
    {
      "cell_type": "markdown",
      "metadata": {
        "id": "view-in-github",
        "colab_type": "text"
      },
      "source": [
        "<a href=\"https://colab.research.google.com/github/4060E046/AI_and_security/blob/master/%E4%BD%BF%E7%94%A8Python%E7%B7%A8%E7%A2%BC%E8%88%87%E8%A7%A3%E7%A2%BC.ipynb\" target=\"_parent\"><img src=\"https://colab.research.google.com/assets/colab-badge.svg\" alt=\"Open In Colab\"/></a>"
      ]
    },
    {
      "cell_type": "code",
      "metadata": {
        "id": "B6kxua78Bppo",
        "colab_type": "code",
        "colab": {}
      },
      "source": [
        ""
      ],
      "execution_count": null,
      "outputs": []
    },
    {
      "cell_type": "markdown",
      "metadata": {
        "id": "qXCt8cSRBzVy",
        "colab_type": "text"
      },
      "source": [
        "**使用Python程式與內建函數進行ASCII的編碼與解碼**"
      ]
    },
    {
      "cell_type": "markdown",
      "metadata": {
        "id": "FD9CO5NrB1E4",
        "colab_type": "text"
      },
      "source": [
        "Python 內建函數(Built in Functions):chr()與ord()"
      ]
    },
    {
      "cell_type": "code",
      "metadata": {
        "id": "R241Sa4yB4XV",
        "colab_type": "code",
        "colab": {
          "base_uri": "https://localhost:8080/",
          "height": 34
        },
        "outputId": "b67130f2-8919-406b-b544-63bc67d35241"
      },
      "source": [
        "chr(97)\n",
        "\n",
        "chr(66)\n",
        "\n",
        "#ord('a')\n",
        "#print(bin(ord('a')))\n",
        "#oct(ord('a'))\n",
        "print(hex(ord('a')))"
      ],
      "execution_count": 2,
      "outputs": [
        {
          "output_type": "stream",
          "text": [
            "0x61\n"
          ],
          "name": "stdout"
        }
      ]
    },
    {
      "cell_type": "markdown",
      "metadata": {
        "id": "7b_BoVu4B_Y7",
        "colab_type": "text"
      },
      "source": [
        "**編碼與解碼 101---ASCII編碼解題**"
      ]
    },
    {
      "cell_type": "markdown",
      "metadata": {
        "id": "8R_MyZTACAq8",
        "colab_type": "text"
      },
      "source": [
        "字串的分割"
      ]
    },
    {
      "cell_type": "code",
      "metadata": {
        "id": "OSgtuPXgCBjW",
        "colab_type": "code",
        "colab": {
          "base_uri": "https://localhost:8080/",
          "height": 233
        },
        "outputId": "d12d79ba-7760-4f54-a5c9-e5b5424eeab5"
      },
      "source": [
        "a=\"66 114\".split(\"\")\n",
        "a\n",
        "\n",
        "a=\"66 114\".split(\"  \")\n",
        "a\n",
        "\n",
        "a=\"66 114\".split(\" \")\n",
        "a\n",
        "type(a)"
      ],
      "execution_count": 6,
      "outputs": [
        {
          "output_type": "error",
          "ename": "ValueError",
          "evalue": "ignored",
          "traceback": [
            "\u001b[0;31m---------------------------------------------------------------------------\u001b[0m",
            "\u001b[0;31mValueError\u001b[0m                                Traceback (most recent call last)",
            "\u001b[0;32m<ipython-input-6-2ae56806b103>\u001b[0m in \u001b[0;36m<module>\u001b[0;34m()\u001b[0m\n\u001b[0;32m----> 1\u001b[0;31m \u001b[0ma\u001b[0m\u001b[0;34m=\u001b[0m\u001b[0;34m\"66 114\"\u001b[0m\u001b[0;34m.\u001b[0m\u001b[0msplit\u001b[0m\u001b[0;34m(\u001b[0m\u001b[0;34m\"\"\u001b[0m\u001b[0;34m)\u001b[0m\u001b[0;34m\u001b[0m\u001b[0;34m\u001b[0m\u001b[0m\n\u001b[0m\u001b[1;32m      2\u001b[0m \u001b[0ma\u001b[0m\u001b[0;34m\u001b[0m\u001b[0;34m\u001b[0m\u001b[0m\n\u001b[1;32m      3\u001b[0m \u001b[0;34m\u001b[0m\u001b[0m\n\u001b[1;32m      4\u001b[0m \u001b[0ma\u001b[0m\u001b[0;34m=\u001b[0m\u001b[0;34m\"66 114\"\u001b[0m\u001b[0;34m.\u001b[0m\u001b[0msplit\u001b[0m\u001b[0;34m(\u001b[0m\u001b[0;34m\"  \"\u001b[0m\u001b[0;34m)\u001b[0m\u001b[0;34m\u001b[0m\u001b[0;34m\u001b[0m\u001b[0m\n\u001b[1;32m      5\u001b[0m \u001b[0ma\u001b[0m\u001b[0;34m\u001b[0m\u001b[0;34m\u001b[0m\u001b[0m\n",
            "\u001b[0;31mValueError\u001b[0m: empty separator"
          ]
        }
      ]
    },
    {
      "cell_type": "markdown",
      "metadata": {
        "id": "eyTK9YDvCKHk",
        "colab_type": "text"
      },
      "source": [
        "把每一個分割後的字串==轉成整數後===再編碼出ASCII的字"
      ]
    },
    {
      "cell_type": "code",
      "metadata": {
        "id": "MkpU8mrJCK77",
        "colab_type": "code",
        "colab": {
          "base_uri": "https://localhost:8080/",
          "height": 35
        },
        "outputId": "1e4e2467-d9e7-42e8-fce3-b8ea461d36c5"
      },
      "source": [
        "a=\"66 114\".split(\" \")\n",
        "\n",
        "result=''\n",
        "\n",
        "for x in a:\n",
        "  y=chr(int(x))\n",
        "  result += y\n",
        "# result = result + y \n",
        "\n",
        "result"
      ],
      "execution_count": 5,
      "outputs": [
        {
          "output_type": "execute_result",
          "data": {
            "application/vnd.google.colaboratory.intrinsic+json": {
              "type": "string"
            },
            "text/plain": [
              "'Br'"
            ]
          },
          "metadata": {
            "tags": []
          },
          "execution_count": 5
        }
      ]
    },
    {
      "cell_type": "markdown",
      "metadata": {
        "id": "hWXIoOUXCcXS",
        "colab_type": "text"
      },
      "source": [
        "**使用Python標準函式庫進行BASE64的編碼與解碼**"
      ]
    },
    {
      "cell_type": "markdown",
      "metadata": {
        "id": "uSKFuzJbCexC",
        "colab_type": "text"
      },
      "source": [
        "使用Base 64 模組編碼:b64encode()"
      ]
    },
    {
      "cell_type": "code",
      "metadata": {
        "id": "D0zzgSaWCf5O",
        "colab_type": "code",
        "colab": {
          "base_uri": "https://localhost:8080/",
          "height": 51
        },
        "outputId": "4ee8caee-b40e-4ab2-be0d-18b4b6523f0f"
      },
      "source": [
        "import base64\n",
        "\n",
        "data =b'BreakAllCTF{HappyPythonDay}'\n",
        "encoded_data = base64.b64encode(data)\n",
        "print('Original Data :', data)\n",
        "print('Encoded :', encoded_data)"
      ],
      "execution_count": 7,
      "outputs": [
        {
          "output_type": "stream",
          "text": [
            "Original Data : b'BreakAllCTF{HappyPythonDay}'\n",
            "Encoded : b'QnJlYWtBbGxDVEZ7SGFwcHlQeXRob25EYXl9'\n"
          ],
          "name": "stdout"
        }
      ]
    },
    {
      "cell_type": "markdown",
      "metadata": {
        "id": "qtIwgYdSChkq",
        "colab_type": "text"
      },
      "source": [
        "使用Base 64 模組解碼:b64decode()"
      ]
    },
    {
      "cell_type": "code",
      "metadata": {
        "id": "NOyHqjj4CiXW",
        "colab_type": "code",
        "colab": {
          "base_uri": "https://localhost:8080/",
          "height": 51
        },
        "outputId": "d5ded92e-919f-4f27-be4b-694c06070e5d"
      },
      "source": [
        "import base64\n",
        "\n",
        "encoded_data = b'QnJlYWtBTExDVEZ7NTN1c1pRM2hXVzI1ZGNoWjdkWGV9'\n",
        "decoded_data = base64.b64decode(encoded_data)\n",
        "print('Encoded :', encoded_data)\n",
        "print('Decoded :', decoded_data)"
      ],
      "execution_count": 8,
      "outputs": [
        {
          "output_type": "stream",
          "text": [
            "Encoded : b'QnJlYWtBTExDVEZ7NTN1c1pRM2hXVzI1ZGNoWjdkWGV9'\n",
            "Decoded : b'BreakALLCTF{53usZQ3hWW25dchZ7dXe}'\n"
          ],
          "name": "stdout"
        }
      ]
    },
    {
      "cell_type": "markdown",
      "metadata": {
        "id": "QJb1dSsDCl7A",
        "colab_type": "text"
      },
      "source": [
        "使用Base 64 模組也可以進行Base 32編碼與解碼"
      ]
    },
    {
      "cell_type": "code",
      "metadata": {
        "id": "kYSpQbVoCoKs",
        "colab_type": "code",
        "colab": {
          "base_uri": "https://localhost:8080/",
          "height": 68
        },
        "outputId": "16093c14-0062-4293-c3ff-aec7ce364dff"
      },
      "source": [
        "import base64\n",
        "\n",
        "original_data = b'BreakAllCTF{HappyPythonDay}'\n",
        "print('Original data:', original_data)\n",
        "\n",
        "encoded_data = base64.b32encode(original_data)\n",
        "print('Encoded :', encoded_data)\n",
        "\n",
        "decoded_data = base64.b32decode(encoded_data)\n",
        "print('Decoded :', decoded_data)"
      ],
      "execution_count": 9,
      "outputs": [
        {
          "output_type": "stream",
          "text": [
            "Original data: b'BreakAllCTF{HappyPythonDay}'\n",
            "Encoded : b'IJZGKYLLIFWGYQ2UIZ5UQYLQOB4VA6LUNBXW4RDBPF6Q===='\n",
            "Decoded : b'BreakAllCTF{HappyPythonDay}'\n"
          ],
          "name": "stdout"
        }
      ]
    },
    {
      "cell_type": "markdown",
      "metadata": {
        "id": "kGAcW_MNDIfK",
        "colab_type": "text"
      },
      "source": [
        "**使用Python 內建函數(Built in Functions)解決 數字系統的轉換問題**"
      ]
    },
    {
      "cell_type": "code",
      "metadata": {
        "id": "PSBtAuPODJj5",
        "colab_type": "code",
        "colab": {
          "base_uri": "https://localhost:8080/",
          "height": 85
        },
        "outputId": "28a99a65-27fe-4473-8c79-21d0f2011d63"
      },
      "source": [
        "# 數字系統( number system)的轉換\n",
        "# 使用Python程式將10進位(Decimal)數字轉換成二進位(binary), 八進位(Octal) 及 十六進位(Hexadecimal) \n",
        "# https://www.programiz.com/python-programming/examples/conversion-binary-octal-hexadecimal\n",
        "\n",
        "bin_n = 0b1011\n",
        "\n",
        "print(\"上述二進位數字可被轉換成:\")\n",
        "print(bin_n,\"十進位(Decimal).\")\n",
        "print(oct(bin_n),\"八進位(octal).\")\n",
        "print(hex(bin_n),\"十六進位(hexadecimal).\")"
      ],
      "execution_count": 10,
      "outputs": [
        {
          "output_type": "stream",
          "text": [
            "上述二進位數字可被轉換成:\n",
            "11 十進位(Decimal).\n",
            "0o13 八進位(octal).\n",
            "0xb 十六進位(hexadecimal).\n"
          ],
          "name": "stdout"
        }
      ]
    },
    {
      "cell_type": "markdown",
      "metadata": {
        "id": "fzynikzGDOkm",
        "colab_type": "text"
      },
      "source": [
        "**十進位的 344, 二進位(binary)|八進位(octal)|十六進位(hexadecimal)**"
      ]
    },
    {
      "cell_type": "code",
      "metadata": {
        "id": "YF-5QtVhDP1V",
        "colab_type": "code",
        "colab": {
          "base_uri": "https://localhost:8080/",
          "height": 85
        },
        "outputId": "07a1a3d6-7810-4529-e326-1238b04c50aa"
      },
      "source": [
        "dec = 344\n",
        "\n",
        "print(\"10進位數字\",dec,\"可被轉換成:\")\n",
        "print(bin(dec),\"二進位(binary).\")\n",
        "print(oct(dec),\"八進位(octal).\")\n",
        "print(hex(dec),\"十六進位(hexadecimal).\")"
      ],
      "execution_count": 11,
      "outputs": [
        {
          "output_type": "stream",
          "text": [
            "10進位數字 344 可被轉換成:\n",
            "0b101011000 二進位(binary).\n",
            "0o530 八進位(octal).\n",
            "0x158 十六進位(hexadecimal).\n"
          ],
          "name": "stdout"
        }
      ]
    },
    {
      "cell_type": "markdown",
      "metadata": {
        "id": "YSE9Bj_lDVIZ",
        "colab_type": "text"
      },
      "source": [
        "**底下程式執行結果為何**"
      ]
    },
    {
      "cell_type": "code",
      "metadata": {
        "id": "0Mlyw44qDYsa",
        "colab_type": "code",
        "colab": {
          "base_uri": "https://localhost:8080/",
          "height": 119
        },
        "outputId": "ffce26d4-1834-4887-afb9-29b9c3332f29"
      },
      "source": [
        "# binary 0b or 0B\n",
        "print(\"For 1010, int is:\", int('1010', 2))\n",
        "print(\"For 0b1010, int is:\", int('0b1010', 2))\n",
        "\n",
        "# octal 0o or 0O\n",
        "print(\"For 12, int is:\", int('12', 8))\n",
        "print(\"For 0o12, int is:\", int('0o12', 8))\n",
        "\n",
        "# hexadecimal\n",
        "print(\"For A, int is:\", int('A', 16))\n",
        "print(\"For 0xA, int is:\", int('0xA', 16))"
      ],
      "execution_count": 12,
      "outputs": [
        {
          "output_type": "stream",
          "text": [
            "For 1010, int is: 10\n",
            "For 0b1010, int is: 10\n",
            "For 12, int is: 10\n",
            "For 0o12, int is: 10\n",
            "For A, int is: 10\n",
            "For 0xA, int is: 10\n"
          ],
          "name": "stdout"
        }
      ]
    }
  ]
}