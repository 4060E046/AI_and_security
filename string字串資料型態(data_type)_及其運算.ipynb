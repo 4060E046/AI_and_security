{
  "nbformat": 4,
  "nbformat_minor": 0,
  "metadata": {
    "colab": {
      "name": "string字串資料型態(data type) 及其運算.ipynb",
      "provenance": [],
      "collapsed_sections": [],
      "authorship_tag": "ABX9TyM9y8Z5udF/BnnSkgLfq8IH",
      "include_colab_link": true
    },
    "kernelspec": {
      "name": "python3",
      "display_name": "Python 3"
    },
    "accelerator": "GPU"
  },
  "cells": [
    {
      "cell_type": "markdown",
      "metadata": {
        "id": "view-in-github",
        "colab_type": "text"
      },
      "source": [
        "<a href=\"https://colab.research.google.com/github/4060E046/AI_and_security/blob/master/string%E5%AD%97%E4%B8%B2%E8%B3%87%E6%96%99%E5%9E%8B%E6%85%8B(data_type)_%E5%8F%8A%E5%85%B6%E9%81%8B%E7%AE%97.ipynb\" target=\"_parent\"><img src=\"https://colab.research.google.com/assets/colab-badge.svg\" alt=\"Open In Colab\"/></a>"
      ]
    },
    {
      "cell_type": "markdown",
      "metadata": {
        "id": "zw66eS050lkx",
        "colab_type": "text"
      },
      "source": [
        "**string字串 資料型態(data type)**"
      ]
    },
    {
      "cell_type": "code",
      "metadata": {
        "id": "9G0ulx9-0Vgv",
        "colab_type": "code",
        "colab": {
          "base_uri": "https://localhost:8080/",
          "height": 68
        },
        "outputId": "c89bc833-9343-4f9f-ddfb-b2e4b567f4d0"
      },
      "source": [
        "str1 = '這是字串'\n",
        "print(str1)\n",
        "\n",
        "str2 = \"這也是字串\"\n",
        "print(str2)\n",
        "\n",
        "str3 = 'allows embedded \"double\" quotes'\n",
        "print(str3)"
      ],
      "execution_count": 1,
      "outputs": [
        {
          "output_type": "stream",
          "text": [
            "這是字串\n",
            "這也是字串\n",
            "allows embedded \"double\" quotes\n"
          ],
          "name": "stdout"
        }
      ]
    },
    {
      "cell_type": "markdown",
      "metadata": {
        "id": "wRJ2nQ2C2mc8",
        "colab_type": "text"
      },
      "source": [
        "**string字串的運算**"
      ]
    },
    {
      "cell_type": "markdown",
      "metadata": {
        "id": "BYFzlB2c0wuL",
        "colab_type": "text"
      },
      "source": [
        "存取字串中的值: 使用方括號"
      ]
    },
    {
      "cell_type": "code",
      "metadata": {
        "id": "zwYHW1qc0qSb",
        "colab_type": "code",
        "colab": {
          "base_uri": "https://localhost:8080/",
          "height": 51
        },
        "outputId": "ea086ee9-50d8-4b4f-f9ed-7e3a335fae23"
      },
      "source": [
        "#!/usr/bin/python\n",
        " \n",
        "var1 = 'Hello Python!'\n",
        " \n",
        "print(\"var1[0]: \", var1[0])\n",
        "print(\"var1[1:8]: \", var1[1:8])"
      ],
      "execution_count": 2,
      "outputs": [
        {
          "output_type": "stream",
          "text": [
            "var1[0]:  H\n",
            "var1[1:8]:  ello Py\n"
          ],
          "name": "stdout"
        }
      ]
    },
    {
      "cell_type": "markdown",
      "metadata": {
        "id": "XflyrOVb1GyP",
        "colab_type": "text"
      },
      "source": [
        "字串的更新"
      ]
    },
    {
      "cell_type": "code",
      "metadata": {
        "id": "O0ErsSk81Dna",
        "colab_type": "code",
        "colab": {
          "base_uri": "https://localhost:8080/",
          "height": 68
        },
        "outputId": "0ccfa788-a258-42b6-90ba-be8ecb76cb67"
      },
      "source": [
        "#!/usr/bin/python\n",
        "# -*- coding: UTF-8 -*-\n",
        " \n",
        "str1 = 'Hello World!'\n",
        "\n",
        "print(\"更新前的字串-> \", str1[:])\n",
        "print(\"更新前的字串(也可以這樣寫)-> \", str1)\n",
        "print(\"更新後的字串-> \", str1[:6] + 'Python!')"
      ],
      "execution_count": 3,
      "outputs": [
        {
          "output_type": "stream",
          "text": [
            "更新前的字串->  Hello World!\n",
            "更新前的字串(也可以這樣寫)->  Hello World!\n",
            "更新後的字串->  Hello Python!\n"
          ],
          "name": "stdout"
        }
      ]
    },
    {
      "cell_type": "markdown",
      "metadata": {
        "id": "mACFymF21LgI",
        "colab_type": "text"
      },
      "source": [
        "字串的加法運算"
      ]
    },
    {
      "cell_type": "code",
      "metadata": {
        "id": "CxWwrwRW1IK8",
        "colab_type": "code",
        "colab": {
          "base_uri": "https://localhost:8080/",
          "height": 34
        },
        "outputId": "c956d068-2714-4ebc-f79a-99b8c27c848b"
      },
      "source": [
        "str4=str1 + str2\n",
        "print(str4)"
      ],
      "execution_count": 4,
      "outputs": [
        {
          "output_type": "stream",
          "text": [
            "Hello World!這也是字串\n"
          ],
          "name": "stdout"
        }
      ]
    },
    {
      "cell_type": "markdown",
      "metadata": {
        "id": "1dWgLBGW1Ve8",
        "colab_type": "text"
      },
      "source": [
        "更多練習"
      ]
    },
    {
      "cell_type": "code",
      "metadata": {
        "id": "0x-Rta0L1S2b",
        "colab_type": "code",
        "colab": {
          "base_uri": "https://localhost:8080/",
          "height": 34
        },
        "outputId": "a12a10dc-25dd-4e4f-914b-261ff2bb9c09"
      },
      "source": [
        "a='  Hello   '\n",
        "b='  Python ! '\n",
        "\n",
        "a+b\n",
        "\n",
        "a*2\n",
        "\n",
        "a[1:4]\n",
        "\n",
        "\"H\" in a\n",
        "\n",
        "\"H\" not in a"
      ],
      "execution_count": 14,
      "outputs": [
        {
          "output_type": "execute_result",
          "data": {
            "text/plain": [
              "False"
            ]
          },
          "metadata": {
            "tags": []
          },
          "execution_count": 14
        }
      ]
    },
    {
      "cell_type": "markdown",
      "metadata": {
        "id": "1kAfsqFZ1fs7",
        "colab_type": "text"
      },
      "source": [
        "**字串反轉**"
      ]
    },
    {
      "cell_type": "code",
      "metadata": {
        "id": "VDqCUe7s1kFX",
        "colab_type": "code",
        "colab": {
          "base_uri": "https://localhost:8080/",
          "height": 51
        },
        "outputId": "d2bce427-d7f2-4518-8193-c5e2972b79fb"
      },
      "source": [
        "def reverse(s): \n",
        "    if len(s) == 0: \n",
        "        return s \n",
        "    else: \n",
        "        return reverse(s[1:]) + s[0] \n",
        "  \n",
        "#s = \"HappyHackingDay\"\n",
        "s = \"BreakAllCTF{HappyHackingDay}\"\n",
        "\n",
        "print (\"The original string  is : \",end=\"\") \n",
        "print (s) \n",
        "  \n",
        "print (\"The reversed string(using recursion) is : \",end=\"\") \n",
        "print (reverse(s))"
      ],
      "execution_count": 6,
      "outputs": [
        {
          "output_type": "stream",
          "text": [
            "The original string  is : BreakAllCTF{HappyHackingDay}\n",
            "The reversed string(using recursion) is : }yaDgnikcaHyppaH{FTCllAkaerB\n"
          ],
          "name": "stdout"
        }
      ]
    },
    {
      "cell_type": "markdown",
      "metadata": {
        "id": "5mpcMjMg19dd",
        "colab_type": "text"
      },
      "source": [
        "**Python内建的字串函数(Built-in String Methods)**"
      ]
    },
    {
      "cell_type": "code",
      "metadata": {
        "id": "2MMQfIbf1_Jx",
        "colab_type": "code",
        "colab": {
          "base_uri": "https://localhost:8080/",
          "height": 34
        },
        "outputId": "20701e6d-308d-4e42-ebd6-f7944129fa29"
      },
      "source": [
        "str1='happy python day'\n",
        "str2='    Oh!   '\n",
        "str4=str1 + str2\n",
        "print(str4.capitalize())"
      ],
      "execution_count": 10,
      "outputs": [
        {
          "output_type": "stream",
          "text": [
            "Happy python day    oh!   \n"
          ],
          "name": "stdout"
        }
      ]
    },
    {
      "cell_type": "markdown",
      "metadata": {
        "id": "OqHOmYFl2SK1",
        "colab_type": "text"
      },
      "source": [
        "**isalpha() :檢測字串是否只由字母組成**"
      ]
    },
    {
      "cell_type": "code",
      "metadata": {
        "id": "eY3MWw0f2TQz",
        "colab_type": "code",
        "colab": {
          "base_uri": "https://localhost:8080/",
          "height": 51
        },
        "outputId": "d1b320ea-05dd-4630-a8e5-1d7240c7b5bd"
      },
      "source": [
        "#!/usr/bin/python\n",
        "# -*- coding: UTF-8 -*-\n",
        " \n",
        "str = \"Python2019\"\n",
        "print(str.isalpha())\n",
        "\n",
        "str = \"Python\"\n",
        "print(str.isalpha())"
      ],
      "execution_count": 12,
      "outputs": [
        {
          "output_type": "stream",
          "text": [
            "False\n",
            "True\n"
          ],
          "name": "stdout"
        }
      ]
    },
    {
      "cell_type": "markdown",
      "metadata": {
        "id": "Hp_B-Brp2XtU",
        "colab_type": "text"
      },
      "source": [
        "**isalnum():檢測字串是否由字母和數位組成。**"
      ]
    },
    {
      "cell_type": "markdown",
      "metadata": {
        "id": "ii2S9gD12Y4c",
        "colab_type": "text"
      },
      "source": [
        "如果 string 至少有一個字元並且所有字元都是字母或數字則返回 True,\n",
        "否則返回 False"
      ]
    },
    {
      "cell_type": "code",
      "metadata": {
        "id": "f6XrVkF62af9",
        "colab_type": "code",
        "colab": {
          "base_uri": "https://localhost:8080/",
          "height": 85
        },
        "outputId": "845880f4-2154-4094-d798-800bbcf4fa2d"
      },
      "source": [
        "#!/usr/bin/python\n",
        "# -*- coding: UTF-8 -*-\n",
        " \n",
        "str = \"Python2019\"\n",
        "print(str.isalnum())\n",
        "\n",
        "str = \"Python\"\n",
        "print(str.isalnum())\n",
        "\n",
        "str = \"2019\"\n",
        "print(str.isalnum())\n",
        "\n",
        "str = \"Python 2019\"\n",
        "print(str.isalnum())"
      ],
      "execution_count": 13,
      "outputs": [
        {
          "output_type": "stream",
          "text": [
            "True\n",
            "True\n",
            "True\n",
            "False\n"
          ],
          "name": "stdout"
        }
      ]
    }
  ]
}