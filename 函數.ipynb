{
  "nbformat": 4,
  "nbformat_minor": 0,
  "metadata": {
    "colab": {
      "name": "函數.ipynb",
      "provenance": [],
      "collapsed_sections": [],
      "authorship_tag": "ABX9TyMzJF1MizqIvkqK9lf1L0MG",
      "include_colab_link": true
    },
    "kernelspec": {
      "name": "python3",
      "display_name": "Python 3"
    }
  },
  "cells": [
    {
      "cell_type": "markdown",
      "metadata": {
        "id": "view-in-github",
        "colab_type": "text"
      },
      "source": [
        "<a href=\"https://colab.research.google.com/github/4060E046/AI_and_security/blob/master/%E5%87%BD%E6%95%B8.ipynb\" target=\"_parent\"><img src=\"https://colab.research.google.com/assets/colab-badge.svg\" alt=\"Open In Colab\"/></a>"
      ]
    },
    {
      "cell_type": "markdown",
      "metadata": {
        "id": "Gj79DQa_9KFa",
        "colab_type": "text"
      },
      "source": [
        "**函數開發初體驗**"
      ]
    },
    {
      "cell_type": "code",
      "metadata": {
        "id": "jRGwV4kg9Er4",
        "colab_type": "code",
        "colab": {
          "base_uri": "https://localhost:8080/",
          "height": 68
        },
        "outputId": "ba8db420-99f1-47fb-b80a-72bfb74ec8c0"
      },
      "source": [
        "def sum(i1, i2):\n",
        "    result = 0\n",
        "    for i in range(i1, i2):\n",
        "        result += i\n",
        "    return result\n",
        "\n",
        "def main():\n",
        "    print(\"Sum from 1 to 10 is\", sum(1, 11)) \n",
        "    print(\"Sum from 20 to 37 is\", sum(20, 38))\n",
        "    print(\"Sum from 35 to 49 is\", sum(35, 50))\n",
        "\n",
        "main() # Call the main function"
      ],
      "execution_count": 1,
      "outputs": [
        {
          "output_type": "stream",
          "text": [
            "Sum from 1 to 10 is 55\n",
            "Sum from 20 to 37 is 513\n",
            "Sum from 35 to 49 is 630\n"
          ],
          "name": "stdout"
        }
      ]
    },
    {
      "cell_type": "markdown",
      "metadata": {
        "id": "EE5aLvtm9OiP",
        "colab_type": "text"
      },
      "source": [
        "**函式的定義**"
      ]
    },
    {
      "cell_type": "markdown",
      "metadata": {
        "id": "wuI7b2PO9QMH",
        "colab_type": "text"
      },
      "source": [
        "函數代碼塊以 def 關鍵字開頭，後接函數識別字名稱和圓括號()。\n",
        "任何傳入參數和引數必須放在圓括號中間。圓括號之間可以用於定義參數。\n",
        "函數的第一行語句可以選擇性地使用文檔字串—用於存放函數說明。\n",
        "函數內容以冒號起始，並且縮排。\n",
        "return [運算式] 結束函數，選擇性地返回一個值給調用方。不帶運算式的return相當於返回 None。\n",
        "函式包含標頭和主體。\n",
        "標頭(header)起源於def關鍵字，後接函式名稱和參數，最後以冒號結尾"
      ]
    },
    {
      "cell_type": "markdown",
      "metadata": {
        "id": "d7MO75Nn9Quj",
        "colab_type": "text"
      },
      "source": [
        "練習撰寫swap(a,b)函式\n",
        "寫一個函式將輸入的兩個變數值互換"
      ]
    },
    {
      "cell_type": "code",
      "metadata": {
        "id": "Fz6is5sv9Uyl",
        "colab_type": "code",
        "colab": {
          "base_uri": "https://localhost:8080/",
          "height": 51
        },
        "outputId": "d1c3feb0-2cbc-4039-c9f1-e34242752cb5"
      },
      "source": [
        "#!/usr/bin/python\n",
        "# -*- coding: UTF-8 -*-\n",
        " \n",
        "def swap(a,b):\n",
        "    a,b = b,a\n",
        "    return (a,b)\n",
        " \n",
        "if __name__ == '__main__':\n",
        "    x = 10\n",
        "    y = 20\n",
        "    print('x = %d,y = %d' % (x,y))\n",
        "    x,y = swap(x,y)\n",
        "    print('x = %d,y = %d' % (x,y))"
      ],
      "execution_count": 2,
      "outputs": [
        {
          "output_type": "stream",
          "text": [
            "x = 10,y = 20\n",
            "x = 20,y = 10\n"
          ],
          "name": "stdout"
        }
      ]
    },
    {
      "cell_type": "code",
      "metadata": {
        "id": "OznQWM5e9YZ_",
        "colab_type": "code",
        "colab": {
          "base_uri": "https://localhost:8080/",
          "height": 102
        },
        "outputId": "f1544cdb-a301-433d-895b-de336fd2f8c7"
      },
      "source": [
        "\"\"\"## Python Docstring\n",
        "\n",
        "\n",
        "https://stackoverflow.com/questions/3898572/what-is-the-standard-python-docstring-format\n",
        "\n",
        "\n",
        "Google Style Python Docstrings\n",
        "\n",
        "https://www.sphinx-doc.org/en/master/usage/extensions/example_google.html#example-google\n",
        "\n",
        "\n",
        "'''\n",
        "This is an example of Google style.\n",
        "\n",
        "Args:\n",
        "    param1: This is the first param.\n",
        "    param2: This is a second param.\n",
        "\n",
        "Returns:\n",
        "    This is a description of what is returned.\n",
        "\n",
        "Raises:\n",
        "    KeyError: Raises an exception.\n",
        "'''\n",
        "\"\"\"\n",
        "\n",
        "def demo():\n",
        "    \"\"\"函數的文件字串\"\"\"\n",
        "    pass\n",
        "    \n",
        "print(demo.__doc__)\n",
        "\n",
        "def swap(a,b):\n",
        "    \"\"\"\n",
        "    swap(a,b)功能是.................\n",
        "    \"\"\" \n",
        "    a,b = b,a\n",
        "    return (a,b)\n",
        "\n",
        "print(swap(3,5))\n",
        "print(swap.__doc__)"
      ],
      "execution_count": 3,
      "outputs": [
        {
          "output_type": "stream",
          "text": [
            "函數的文件字串\n",
            "(5, 3)\n",
            "\n",
            "    swap(a,b)功能是.................\n",
            "    \n"
          ],
          "name": "stdout"
        }
      ]
    },
    {
      "cell_type": "markdown",
      "metadata": {
        "id": "dvwbg2hT9cXz",
        "colab_type": "text"
      },
      "source": [
        "**函式與回傳值**"
      ]
    },
    {
      "cell_type": "markdown",
      "metadata": {
        "id": "9LQO_4H59obi",
        "colab_type": "text"
      },
      "source": [
        "Python的函式是否有無回傳值，端視函式是否有無return敘述"
      ]
    },
    {
      "cell_type": "markdown",
      "metadata": {
        "id": "aUqL7tsz9qhQ",
        "colab_type": "text"
      },
      "source": [
        "若函式沒有回傳值，預設是回傳一None特殊值。 因此，沒有回傳值的函式也稱為None函式。 None值可以指定給一變數，表示此變數沒有參考到任何的物件"
      ]
    },
    {
      "cell_type": "code",
      "metadata": {
        "id": "no4-aueW9siV",
        "colab_type": "code",
        "colab": {
          "base_uri": "https://localhost:8080/",
          "height": 51
        },
        "outputId": "1767c886-3be3-4ab9-af23-fb7678022533"
      },
      "source": [
        "## Python的函數可以回傳多個值(超棒der)\n",
        "\n",
        "\n",
        "#!/usr/bin/python \n",
        "# -*- coding: UTF-8 -*- \n",
        "\n",
        "def sort(number1, number2):\n",
        "    if number1 < number2:\n",
        "        return number1, number2\n",
        "    else:\n",
        "        return number2, number1\n",
        "\n",
        "num1, num2 = sort(31, 25)\n",
        "\n",
        "print(\"num1 is\", num1)\n",
        "print(\"num2 is\", num2)\n",
        "\n",
        "### [作業]:def sort(number1, number2, number3):"
      ],
      "execution_count": 5,
      "outputs": [
        {
          "output_type": "stream",
          "text": [
            "num1 is 25\n",
            "num2 is 31\n"
          ],
          "name": "stdout"
        }
      ]
    },
    {
      "cell_type": "markdown",
      "metadata": {
        "id": "RwVgIYMx9-Vv",
        "colab_type": "text"
      },
      "source": [
        "**函式與參數**"
      ]
    },
    {
      "cell_type": "markdown",
      "metadata": {
        "id": "TrdhCPpB-A8n",
        "colab_type": "text"
      },
      "source": [
        "arguments參數的使用技巧"
      ]
    },
    {
      "cell_type": "code",
      "metadata": {
        "id": "NK6-KQZ_-CsP",
        "colab_type": "code",
        "colab": {
          "base_uri": "https://localhost:8080/",
          "height": 102
        },
        "outputId": "2e863614-45fb-4f05-80f0-1ae30bc6344a"
      },
      "source": [
        "#!/usr/bin/python \n",
        "# -*- coding: UTF-8 -*- \n",
        "\n",
        "def printArea(width = 11, height = 12):\n",
        "    area = width * height\n",
        "    print(\"width:\", width, \"\\theight:\", height, \"\\tarea:\", area)\n",
        "\n",
        "printArea() \n",
        "printArea(4, 2.5) # Positional arguments width = 4 and height = 2.5\n",
        "printArea(height = 5, width = 3) # Keyword arguments width \n",
        "printArea(width = 1.2) # Default height = 2\n",
        "printArea(height = 6.2) # Default widht = 1"
      ],
      "execution_count": 6,
      "outputs": [
        {
          "output_type": "stream",
          "text": [
            "width: 11 \theight: 12 \tarea: 132\n",
            "width: 4 \theight: 2.5 \tarea: 10.0\n",
            "width: 3 \theight: 5 \tarea: 15\n",
            "width: 1.2 \theight: 12 \tarea: 14.399999999999999\n",
            "width: 11 \theight: 6.2 \tarea: 68.2\n"
          ],
          "name": "stdout"
        }
      ]
    },
    {
      "cell_type": "markdown",
      "metadata": {
        "id": "ov6Tsh1C-Gni",
        "colab_type": "text"
      },
      "source": [
        "**[小小測驗]**"
      ]
    },
    {
      "cell_type": "code",
      "metadata": {
        "id": "RItFq6K8-IBT",
        "colab_type": "code",
        "colab": {
          "base_uri": "https://localhost:8080/",
          "height": 85
        },
        "outputId": "e6641e4e-d387-468b-bf76-a719a734d12c"
      },
      "source": [
        "#!/usr/bin/python \n",
        "# -*- coding: UTF-8 -*- \n",
        "\n",
        "def hello_3(greeting='Hello', name='world'): \n",
        "    print('{}, {}!'.format(greeting, name)) \n",
        "\n",
        "    \n",
        "hello_3() \n",
        "hello_3('Greetings') \n",
        "hello_3('Greetings', 'universe')\n",
        "hello_3(name='GGGGGGoood')"
      ],
      "execution_count": 7,
      "outputs": [
        {
          "output_type": "stream",
          "text": [
            "Hello, world!\n",
            "Greetings, world!\n",
            "Greetings, universe!\n",
            "Hello, GGGGGGoood!\n"
          ],
          "name": "stdout"
        }
      ]
    },
    {
      "cell_type": "markdown",
      "metadata": {
        "id": "UN0fUi8B-Mva",
        "colab_type": "text"
      },
      "source": [
        "[特別注意]要將字典dict型的資料傳給函數時,記得要使用"
      ]
    },
    {
      "cell_type": "code",
      "metadata": {
        "id": "FkCxd_js-Nsr",
        "colab_type": "code",
        "colab": {
          "base_uri": "https://localhost:8080/",
          "height": 34
        },
        "outputId": "9c2cf273-7448-4c96-a88b-020b92bd9e16"
      },
      "source": [
        "params = {'name': 'Sir Simon Rattle', 'greeting': 'To my Great Conductor'}\n",
        "hello_3(**params)"
      ],
      "execution_count": 8,
      "outputs": [
        {
          "output_type": "stream",
          "text": [
            "To my Great Conductor, Sir Simon Rattle!\n"
          ],
          "name": "stdout"
        }
      ]
    },
    {
      "cell_type": "markdown",
      "metadata": {
        "id": "gfuLxrPm-RY-",
        "colab_type": "text"
      },
      "source": [
        "collectiong parameters(任意數量的參數):* 與 **"
      ]
    },
    {
      "cell_type": "markdown",
      "metadata": {
        "id": "8Npq8r9x-ZXp",
        "colab_type": "text"
      },
      "source": [
        "如何撰寫擁有任意數量參數的函式:"
      ]
    },
    {
      "cell_type": "code",
      "metadata": {
        "id": "LpC5kXar-T8S",
        "colab_type": "code",
        "colab": {
          "base_uri": "https://localhost:8080/",
          "height": 119
        },
        "outputId": "10bd3efb-8b72-496c-ca12-d35687e0b3da"
      },
      "source": [
        "def print_params(*params): \n",
        "    print(params) \n",
        "\n",
        "print_params('Testing') \n",
        "\n",
        "print_params(1, 2, 3) \n",
        "\n",
        "# return的是tuple資料型態\n",
        "\n",
        "#可和一般參數齊用\n",
        "\n",
        "def print_params_2(title, *params): \n",
        "    print(title) \n",
        "    print(params)\n",
        "\n",
        "print_params_2('Params:', 1, 2, 3)\n",
        "print_params_2('Nothing:')"
      ],
      "execution_count": 9,
      "outputs": [
        {
          "output_type": "stream",
          "text": [
            "('Testing',)\n",
            "(1, 2, 3)\n",
            "Params:\n",
            "(1, 2, 3)\n",
            "Nothing:\n",
            "()\n"
          ],
          "name": "stdout"
        }
      ]
    },
    {
      "cell_type": "markdown",
      "metadata": {
        "id": "0MxBAQUU-bVs",
        "colab_type": "text"
      },
      "source": [
        "**撰寫擁有任意數量參數的函式且要支援關鍵字參數==>使用兩個米字號**"
      ]
    },
    {
      "cell_type": "code",
      "metadata": {
        "id": "kcvTBc_L-zQi",
        "colab_type": "code",
        "colab": {
          "base_uri": "https://localhost:8080/",
          "height": 136
        },
        "outputId": "16f4b817-6da2-41e5-eec1-46042a11c1af"
      },
      "source": [
        "def print_params_3(**params): \n",
        "    print(params) \n",
        "\n",
        "print_params_3(x=1, y=2, z=3) \n",
        "\n",
        "# return的是dict(字典資料型態)\n",
        "\n",
        "def print_params_4(x, y, z=3, *pospar, **keypar): \n",
        "    print(x, y, z) \n",
        "    print(pospar) \n",
        "    print(keypar) \n",
        "\n",
        "print_params_4(1, 2, 4, 5, 6, 7, foo=1, bar=2)\n",
        "\n",
        "print_params_4(1, 2)"
      ],
      "execution_count": 10,
      "outputs": [
        {
          "output_type": "stream",
          "text": [
            "{'x': 1, 'y': 2, 'z': 3}\n",
            "1 2 4\n",
            "(5, 6, 7)\n",
            "{'foo': 1, 'bar': 2}\n",
            "1 2 3\n",
            "()\n",
            "{}\n"
          ],
          "name": "stdout"
        }
      ]
    },
    {
      "cell_type": "markdown",
      "metadata": {
        "id": "-Jl9GePw-0r5",
        "colab_type": "text"
      },
      "source": [
        "**變數的有效範圍**"
      ]
    },
    {
      "cell_type": "markdown",
      "metadata": {
        "id": "brxq8XPi-4KV",
        "colab_type": "text"
      },
      "source": [
        "變數的有效範圍(Scope)：變數在程式可參考的範圍。\n",
        "\n",
        "區域變數(local variable):宣告在函式內部的變數\n",
        "\n",
        "全域變數(global variables):宣告在所有函式外部的變數"
      ]
    },
    {
      "cell_type": "code",
      "metadata": {
        "id": "eA4OqlYq-4vc",
        "colab_type": "code",
        "colab": {
          "base_uri": "https://localhost:8080/",
          "height": 136
        },
        "outputId": "4fd6b492-fee6-4167-b9df-9d4c8c96cb18"
      },
      "source": [
        "x = 111\n",
        "\n",
        "def f1():\n",
        "    x = 222\n",
        "    print(x) \n",
        "\n",
        "f1()\n",
        "print(x)\n",
        "\n",
        "x = 1\n",
        "\n",
        "def increase():\n",
        "    global x\n",
        "    x =  x + 1\n",
        "    print(x) \n",
        "\n",
        "increase()\n",
        "print(x)\n",
        "increase()\n",
        "increase()\n",
        "print(x)"
      ],
      "execution_count": 11,
      "outputs": [
        {
          "output_type": "stream",
          "text": [
            "222\n",
            "111\n",
            "2\n",
            "2\n",
            "3\n",
            "4\n",
            "4\n"
          ],
          "name": "stdout"
        }
      ]
    },
    {
      "cell_type": "markdown",
      "metadata": {
        "id": "iMgZn2Rp_C0h",
        "colab_type": "text"
      },
      "source": [
        "**匿名函數==>lambda 運算式**"
      ]
    },
    {
      "cell_type": "markdown",
      "metadata": {
        "id": "RKCVHM8j_Dgq",
        "colab_type": "text"
      },
      "source": [
        "匿名函數==沒有函數名稱、臨時使用的小函數\n",
        "使用lambda 運算式來宣告匿名函數\n",
        "lambda 運算式只能包含一個運算式， 不允許複雜的語句，但運算式中可呼叫其他函數"
      ]
    },
    {
      "cell_type": "markdown",
      "metadata": {
        "id": "yXZE0Kyl_HEj",
        "colab_type": "text"
      },
      "source": [
        "**把lambda運算式當做函數**"
      ]
    },
    {
      "cell_type": "code",
      "metadata": {
        "id": "7hrpdY7M_I4M",
        "colab_type": "code",
        "colab": {
          "base_uri": "https://localhost:8080/",
          "height": 34
        },
        "outputId": "c3367d28-4efc-4ef5-940d-4b5b45115b91"
      },
      "source": [
        "f1 = lambda x, y, z: x+2*y+3*z\n",
        "print(f1(2,3,1))"
      ],
      "execution_count": 12,
      "outputs": [
        {
          "output_type": "stream",
          "text": [
            "11\n"
          ],
          "name": "stdout"
        }
      ]
    },
    {
      "cell_type": "code",
      "metadata": {
        "id": "HauPJSzd_Nib",
        "colab_type": "code",
        "colab": {}
      },
      "source": [
        "###在lambda 運算式中呼叫其他函式(重要技術)\n",
        "\n",
        "def myfunc(m):\n",
        "    return m*m\n",
        "\n",
        "my_list = [1, 3, 5, 7, 9]"
      ],
      "execution_count": 13,
      "outputs": []
    },
    {
      "cell_type": "markdown",
      "metadata": {
        "id": "wRv4TiFc_k8Y",
        "colab_type": "text"
      },
      "source": [
        "**使用python的map()**"
      ]
    },
    {
      "cell_type": "code",
      "metadata": {
        "id": "XBebSIFK_mcX",
        "colab_type": "code",
        "colab": {
          "base_uri": "https://localhost:8080/",
          "height": 34
        },
        "outputId": "3fd59431-eb77-4d77-c6fc-300db778315c"
      },
      "source": [
        "map(lambda x:myfunc(x), my_list)"
      ],
      "execution_count": 14,
      "outputs": [
        {
          "output_type": "execute_result",
          "data": {
            "text/plain": [
              "<map at 0x7f174da5e908>"
            ]
          },
          "metadata": {
            "tags": []
          },
          "execution_count": 14
        }
      ]
    },
    {
      "cell_type": "markdown",
      "metadata": {
        "id": "r5eetStFBDr3",
        "colab_type": "text"
      },
      "source": [
        "**費氏數列**"
      ]
    },
    {
      "cell_type": "markdown",
      "metadata": {
        "id": "RIQWhJeZBFkU",
        "colab_type": "text"
      },
      "source": [
        "費氏數列Fibonacci sequence又稱黃金分割數列\n",
        "0、1、1、2、3、5、8、13、21、34、……。\n",
        "\n",
        "在數學上，費波那契數列是以遞迴的方法來定義：\n",
        "F(0) = 0    (n=0)\n",
        "F(1) = 1    (n=1)\n",
        "F(n) = F(n-1)+ F(n-2)(n=>2)"
      ]
    },
    {
      "cell_type": "markdown",
      "metadata": {
        "id": "JXPY3sefBHRr",
        "colab_type": "text"
      },
      "source": [
        "方法一:使用 recursive"
      ]
    },
    {
      "cell_type": "code",
      "metadata": {
        "id": "c5QLiFCdBIkW",
        "colab_type": "code",
        "colab": {
          "base_uri": "https://localhost:8080/",
          "height": 34
        },
        "outputId": "2ce66c08-c4cd-44b1-cb30-87ecc47e6b43"
      },
      "source": [
        "#!/usr/bin/python\n",
        "# -*- coding: UTF-8 -*-\n",
        "\n",
        "def fib(n):\n",
        "    if n==1 or n==2:\n",
        "        return 1\n",
        "    return fib(n-1)+fib(n-2)\n",
        "\n",
        "print(fib(10))"
      ],
      "execution_count": 15,
      "outputs": [
        {
          "output_type": "stream",
          "text": [
            "55\n"
          ],
          "name": "stdout"
        }
      ]
    },
    {
      "cell_type": "markdown",
      "metadata": {
        "id": "Cd5DrEQcBKWU",
        "colab_type": "text"
      },
      "source": [
        "方法二:使用 iterative\"\"\""
      ]
    },
    {
      "cell_type": "code",
      "metadata": {
        "id": "VExoWFuxBKuD",
        "colab_type": "code",
        "colab": {
          "base_uri": "https://localhost:8080/",
          "height": 34
        },
        "outputId": "a24e0cef-4d86-46b6-a5ab-a898d2a0e0df"
      },
      "source": [
        "#!/usr/bin/python\n",
        "# -*- coding: UTF-8 -*-\n",
        " \n",
        "def fib(n):\n",
        "    a,b = 1,1\n",
        "    for i in range(n-1):\n",
        "        a,b = b,a+b\n",
        "    return a\n",
        " \n",
        "\n",
        "print(fib(10))"
      ],
      "execution_count": 16,
      "outputs": [
        {
          "output_type": "stream",
          "text": [
            "55\n"
          ],
          "name": "stdout"
        }
      ]
    },
    {
      "cell_type": "markdown",
      "metadata": {
        "id": "BhYCsR5MBPSN",
        "colab_type": "text"
      },
      "source": [
        "**Python 練習實例**"
      ]
    },
    {
      "cell_type": "markdown",
      "metadata": {
        "id": "13ncoNKSBQyq",
        "colab_type": "text"
      },
      "source": [
        "有5個人坐在一起，\n",
        "問第五個人多少歲？他說比第4個人大2歲。\n",
        "問第4個人歲數，他說比第3個人大2歲。\n",
        "問第三個人，又說比第2人大兩歲。\n",
        "問第2個人，說比第一個人大兩歲。\n",
        "最後問第一個人，他說是10歲。\n",
        "請問第五個人多大？"
      ]
    },
    {
      "cell_type": "markdown",
      "metadata": {
        "id": "xg6PAfLmBU1r",
        "colab_type": "text"
      },
      "source": [
        "**問題:要如何知道函數被呼叫的次數??**"
      ]
    },
    {
      "cell_type": "markdown",
      "metadata": {
        "id": "_YUd-RkJBWSQ",
        "colab_type": "text"
      },
      "source": [
        "遞迴函式的呼叫次數==>全域變數的應用"
      ]
    },
    {
      "cell_type": "code",
      "metadata": {
        "id": "6EjkNfWvBWns",
        "colab_type": "code",
        "colab": {
          "base_uri": "https://localhost:8080/",
          "height": 187
        },
        "outputId": "bae59389-be18-48b5-fbf4-dc866d8e4bd3"
      },
      "source": [
        "#!/usr/bin/python\n",
        "# -*- coding: UTF-8 -*-\n",
        "\n",
        "def fib(x):\t\n",
        "\tglobal numFibCalls\n",
        "\tnumFibCalls += 1\n",
        "\t\n",
        "\tif x == 0 or x == 1:\n",
        "           return 1\n",
        "\telse:\n",
        "          return fib(x-1) + fib(x-2)\n",
        "\n",
        "def testFib(n):\n",
        "\tfor i in range(n+1):\n",
        "          global numFibCalls\n",
        "          numFibCalls = 0\n",
        "          print('fib of', i, '=', fib(i))\n",
        "          print('fib called', numFibCalls, 'times.')\n",
        "\n",
        "testFib(4)"
      ],
      "execution_count": 17,
      "outputs": [
        {
          "output_type": "stream",
          "text": [
            "fib of 0 = 1\n",
            "fib called 1 times.\n",
            "fib of 1 = 1\n",
            "fib called 1 times.\n",
            "fib of 2 = 2\n",
            "fib called 3 times.\n",
            "fib of 3 = 3\n",
            "fib called 5 times.\n",
            "fib of 4 = 5\n",
            "fib called 9 times.\n"
          ],
          "name": "stdout"
        }
      ]
    }
  ]
}