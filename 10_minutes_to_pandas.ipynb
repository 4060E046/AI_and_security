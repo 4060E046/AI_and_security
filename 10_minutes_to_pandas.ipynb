{
  "nbformat": 4,
  "nbformat_minor": 0,
  "metadata": {
    "colab": {
      "name": "10 minutes to pandas.ipynb",
      "provenance": [],
      "collapsed_sections": [],
      "authorship_tag": "ABX9TyONpy53/xZsGyDDyQy+OOw6",
      "include_colab_link": true
    },
    "kernelspec": {
      "name": "python3",
      "display_name": "Python 3"
    }
  },
  "cells": [
    {
      "cell_type": "markdown",
      "metadata": {
        "id": "view-in-github",
        "colab_type": "text"
      },
      "source": [
        "<a href=\"https://colab.research.google.com/github/4060E046/AI_and_security/blob/master/10_minutes_to_pandas.ipynb\" target=\"_parent\"><img src=\"https://colab.research.google.com/assets/colab-badge.svg\" alt=\"Open In Colab\"/></a>"
      ]
    },
    {
      "cell_type": "markdown",
      "metadata": {
        "id": "pbaCR9It3use"
      },
      "source": [
        "**Creating a Series by passing a list of values, letting pandas create a default integer index:**"
      ]
    },
    {
      "cell_type": "code",
      "metadata": {
        "id": "aMkNRuXq2pKZ",
        "outputId": "5e262e97-869a-4ca5-edcf-666e87c29e2a",
        "colab": {
          "base_uri": "https://localhost:8080/",
          "height": 136
        }
      },
      "source": [
        "import numpy as np\n",
        "import pandas as pd\n",
        "s = pd.Series([1, 3, 5, np.nan, 6, 8])\n",
        "s"
      ],
      "execution_count": 3,
      "outputs": [
        {
          "output_type": "execute_result",
          "data": {
            "text/plain": [
              "0    1.0\n",
              "1    3.0\n",
              "2    5.0\n",
              "3    NaN\n",
              "4    6.0\n",
              "5    8.0\n",
              "dtype: float64"
            ]
          },
          "metadata": {
            "tags": []
          },
          "execution_count": 3
        }
      ]
    },
    {
      "cell_type": "markdown",
      "metadata": {
        "id": "soENkLY63rxy"
      },
      "source": [
        "**Creating a DataFrame by passing a NumPy array, with a datetime index and labeled columns:**"
      ]
    },
    {
      "cell_type": "code",
      "metadata": {
        "id": "jgh02s1g3dd7",
        "outputId": "6a425bef-0931-459f-9773-ecab5b5ddba2",
        "colab": {
          "base_uri": "https://localhost:8080/",
          "height": 68
        }
      },
      "source": [
        "dates = pd.date_range('20130101', periods=6)\n",
        "dates"
      ],
      "execution_count": 4,
      "outputs": [
        {
          "output_type": "execute_result",
          "data": {
            "text/plain": [
              "DatetimeIndex(['2013-01-01', '2013-01-02', '2013-01-03', '2013-01-04',\n",
              "               '2013-01-05', '2013-01-06'],\n",
              "              dtype='datetime64[ns]', freq='D')"
            ]
          },
          "metadata": {
            "tags": []
          },
          "execution_count": 4
        }
      ]
    },
    {
      "cell_type": "code",
      "metadata": {
        "id": "DqbDFfhf3jZL",
        "outputId": "31138bc1-3d9a-4816-bb6a-f0ed7c002ee3",
        "colab": {
          "base_uri": "https://localhost:8080/",
          "height": 235
        }
      },
      "source": [
        "df = pd.DataFrame(np.random.randn(6, 4), index=dates, columns=list('ABCD'))\n",
        "df"
      ],
      "execution_count": 5,
      "outputs": [
        {
          "output_type": "execute_result",
          "data": {
            "text/html": [
              "<div>\n",
              "<style scoped>\n",
              "    .dataframe tbody tr th:only-of-type {\n",
              "        vertical-align: middle;\n",
              "    }\n",
              "\n",
              "    .dataframe tbody tr th {\n",
              "        vertical-align: top;\n",
              "    }\n",
              "\n",
              "    .dataframe thead th {\n",
              "        text-align: right;\n",
              "    }\n",
              "</style>\n",
              "<table border=\"1\" class=\"dataframe\">\n",
              "  <thead>\n",
              "    <tr style=\"text-align: right;\">\n",
              "      <th></th>\n",
              "      <th>A</th>\n",
              "      <th>B</th>\n",
              "      <th>C</th>\n",
              "      <th>D</th>\n",
              "    </tr>\n",
              "  </thead>\n",
              "  <tbody>\n",
              "    <tr>\n",
              "      <th>2013-01-01</th>\n",
              "      <td>0.940202</td>\n",
              "      <td>0.096039</td>\n",
              "      <td>0.396034</td>\n",
              "      <td>0.616136</td>\n",
              "    </tr>\n",
              "    <tr>\n",
              "      <th>2013-01-02</th>\n",
              "      <td>-1.653035</td>\n",
              "      <td>0.019699</td>\n",
              "      <td>-0.058005</td>\n",
              "      <td>-0.572179</td>\n",
              "    </tr>\n",
              "    <tr>\n",
              "      <th>2013-01-03</th>\n",
              "      <td>2.121110</td>\n",
              "      <td>2.748939</td>\n",
              "      <td>-0.537573</td>\n",
              "      <td>-0.679182</td>\n",
              "    </tr>\n",
              "    <tr>\n",
              "      <th>2013-01-04</th>\n",
              "      <td>0.835993</td>\n",
              "      <td>-0.493678</td>\n",
              "      <td>-0.234260</td>\n",
              "      <td>1.735533</td>\n",
              "    </tr>\n",
              "    <tr>\n",
              "      <th>2013-01-05</th>\n",
              "      <td>0.805887</td>\n",
              "      <td>1.805297</td>\n",
              "      <td>2.612329</td>\n",
              "      <td>0.612783</td>\n",
              "    </tr>\n",
              "    <tr>\n",
              "      <th>2013-01-06</th>\n",
              "      <td>0.505139</td>\n",
              "      <td>0.316626</td>\n",
              "      <td>0.755513</td>\n",
              "      <td>-0.307437</td>\n",
              "    </tr>\n",
              "  </tbody>\n",
              "</table>\n",
              "</div>"
            ],
            "text/plain": [
              "                   A         B         C         D\n",
              "2013-01-01  0.940202  0.096039  0.396034  0.616136\n",
              "2013-01-02 -1.653035  0.019699 -0.058005 -0.572179\n",
              "2013-01-03  2.121110  2.748939 -0.537573 -0.679182\n",
              "2013-01-04  0.835993 -0.493678 -0.234260  1.735533\n",
              "2013-01-05  0.805887  1.805297  2.612329  0.612783\n",
              "2013-01-06  0.505139  0.316626  0.755513 -0.307437"
            ]
          },
          "metadata": {
            "tags": []
          },
          "execution_count": 5
        }
      ]
    },
    {
      "cell_type": "markdown",
      "metadata": {
        "id": "cdFrm7_-4bAb"
      },
      "source": [
        "**Creating a DataFrame by passing a dict of objects that can be converted to series-like.**"
      ]
    },
    {
      "cell_type": "code",
      "metadata": {
        "id": "o-6v2nvB31Jw",
        "outputId": "8dd806cd-8166-4c73-95ed-2abafdcde9db",
        "colab": {
          "base_uri": "https://localhost:8080/",
          "height": 173
        }
      },
      "source": [
        "df2 = pd.DataFrame({'A': 1.,\n",
        "           'B': pd.Timestamp('20201012'),\n",
        "           'C': pd.Series(1, index=list(range(4)), dtype='float32'),\n",
        "           'D': np.array([3] * 4, dtype='int32'),\n",
        "           'E': pd.Categorical([\"test\", \"train\", \"test\", \"train\"]),\n",
        "           'F': 'foo'})\n",
        "df2"
      ],
      "execution_count": 7,
      "outputs": [
        {
          "output_type": "execute_result",
          "data": {
            "text/html": [
              "<div>\n",
              "<style scoped>\n",
              "    .dataframe tbody tr th:only-of-type {\n",
              "        vertical-align: middle;\n",
              "    }\n",
              "\n",
              "    .dataframe tbody tr th {\n",
              "        vertical-align: top;\n",
              "    }\n",
              "\n",
              "    .dataframe thead th {\n",
              "        text-align: right;\n",
              "    }\n",
              "</style>\n",
              "<table border=\"1\" class=\"dataframe\">\n",
              "  <thead>\n",
              "    <tr style=\"text-align: right;\">\n",
              "      <th></th>\n",
              "      <th>A</th>\n",
              "      <th>B</th>\n",
              "      <th>C</th>\n",
              "      <th>D</th>\n",
              "      <th>E</th>\n",
              "      <th>F</th>\n",
              "    </tr>\n",
              "  </thead>\n",
              "  <tbody>\n",
              "    <tr>\n",
              "      <th>0</th>\n",
              "      <td>1.0</td>\n",
              "      <td>2020-10-12</td>\n",
              "      <td>1.0</td>\n",
              "      <td>3</td>\n",
              "      <td>test</td>\n",
              "      <td>foo</td>\n",
              "    </tr>\n",
              "    <tr>\n",
              "      <th>1</th>\n",
              "      <td>1.0</td>\n",
              "      <td>2020-10-12</td>\n",
              "      <td>1.0</td>\n",
              "      <td>3</td>\n",
              "      <td>train</td>\n",
              "      <td>foo</td>\n",
              "    </tr>\n",
              "    <tr>\n",
              "      <th>2</th>\n",
              "      <td>1.0</td>\n",
              "      <td>2020-10-12</td>\n",
              "      <td>1.0</td>\n",
              "      <td>3</td>\n",
              "      <td>test</td>\n",
              "      <td>foo</td>\n",
              "    </tr>\n",
              "    <tr>\n",
              "      <th>3</th>\n",
              "      <td>1.0</td>\n",
              "      <td>2020-10-12</td>\n",
              "      <td>1.0</td>\n",
              "      <td>3</td>\n",
              "      <td>train</td>\n",
              "      <td>foo</td>\n",
              "    </tr>\n",
              "  </tbody>\n",
              "</table>\n",
              "</div>"
            ],
            "text/plain": [
              "     A          B    C  D      E    F\n",
              "0  1.0 2020-10-12  1.0  3   test  foo\n",
              "1  1.0 2020-10-12  1.0  3  train  foo\n",
              "2  1.0 2020-10-12  1.0  3   test  foo\n",
              "3  1.0 2020-10-12  1.0  3  train  foo"
            ]
          },
          "metadata": {
            "tags": []
          },
          "execution_count": 7
        }
      ]
    },
    {
      "cell_type": "markdown",
      "metadata": {
        "id": "mIU9AbBX4diY"
      },
      "source": [
        "**The columns of the resulting DataFrame have different dtypes.**"
      ]
    },
    {
      "cell_type": "code",
      "metadata": {
        "id": "pvLAoKb94e1g",
        "outputId": "78ebc321-38f1-4d23-91b5-3ef3a8f37eaa",
        "colab": {
          "base_uri": "https://localhost:8080/",
          "height": 136
        }
      },
      "source": [
        "df2.dtypes"
      ],
      "execution_count": 8,
      "outputs": [
        {
          "output_type": "execute_result",
          "data": {
            "text/plain": [
              "A           float64\n",
              "B    datetime64[ns]\n",
              "C           float32\n",
              "D             int32\n",
              "E          category\n",
              "F            object\n",
              "dtype: object"
            ]
          },
          "metadata": {
            "tags": []
          },
          "execution_count": 8
        }
      ]
    },
    {
      "cell_type": "markdown",
      "metadata": {
        "id": "3IO5QACG7P79"
      },
      "source": [
        "**Viewing data**"
      ]
    },
    {
      "cell_type": "markdown",
      "metadata": {
        "id": "SxPfmGoU7Q0C"
      },
      "source": [
        "**Here is how to view the top and bottom rows of the frame:**"
      ]
    },
    {
      "cell_type": "code",
      "metadata": {
        "id": "lvu3D7th7Swj",
        "outputId": "c9b64d9f-85e7-43da-dc59-1e5d54c82a46",
        "colab": {
          "base_uri": "https://localhost:8080/",
          "height": 204
        }
      },
      "source": [
        "df.head()"
      ],
      "execution_count": 12,
      "outputs": [
        {
          "output_type": "execute_result",
          "data": {
            "text/html": [
              "<div>\n",
              "<style scoped>\n",
              "    .dataframe tbody tr th:only-of-type {\n",
              "        vertical-align: middle;\n",
              "    }\n",
              "\n",
              "    .dataframe tbody tr th {\n",
              "        vertical-align: top;\n",
              "    }\n",
              "\n",
              "    .dataframe thead th {\n",
              "        text-align: right;\n",
              "    }\n",
              "</style>\n",
              "<table border=\"1\" class=\"dataframe\">\n",
              "  <thead>\n",
              "    <tr style=\"text-align: right;\">\n",
              "      <th></th>\n",
              "      <th>A</th>\n",
              "      <th>B</th>\n",
              "      <th>C</th>\n",
              "      <th>D</th>\n",
              "    </tr>\n",
              "  </thead>\n",
              "  <tbody>\n",
              "    <tr>\n",
              "      <th>2013-01-01</th>\n",
              "      <td>0.940202</td>\n",
              "      <td>0.096039</td>\n",
              "      <td>0.396034</td>\n",
              "      <td>0.616136</td>\n",
              "    </tr>\n",
              "    <tr>\n",
              "      <th>2013-01-02</th>\n",
              "      <td>-1.653035</td>\n",
              "      <td>0.019699</td>\n",
              "      <td>-0.058005</td>\n",
              "      <td>-0.572179</td>\n",
              "    </tr>\n",
              "    <tr>\n",
              "      <th>2013-01-03</th>\n",
              "      <td>2.121110</td>\n",
              "      <td>2.748939</td>\n",
              "      <td>-0.537573</td>\n",
              "      <td>-0.679182</td>\n",
              "    </tr>\n",
              "    <tr>\n",
              "      <th>2013-01-04</th>\n",
              "      <td>0.835993</td>\n",
              "      <td>-0.493678</td>\n",
              "      <td>-0.234260</td>\n",
              "      <td>1.735533</td>\n",
              "    </tr>\n",
              "    <tr>\n",
              "      <th>2013-01-05</th>\n",
              "      <td>0.805887</td>\n",
              "      <td>1.805297</td>\n",
              "      <td>2.612329</td>\n",
              "      <td>0.612783</td>\n",
              "    </tr>\n",
              "  </tbody>\n",
              "</table>\n",
              "</div>"
            ],
            "text/plain": [
              "                   A         B         C         D\n",
              "2013-01-01  0.940202  0.096039  0.396034  0.616136\n",
              "2013-01-02 -1.653035  0.019699 -0.058005 -0.572179\n",
              "2013-01-03  2.121110  2.748939 -0.537573 -0.679182\n",
              "2013-01-04  0.835993 -0.493678 -0.234260  1.735533\n",
              "2013-01-05  0.805887  1.805297  2.612329  0.612783"
            ]
          },
          "metadata": {
            "tags": []
          },
          "execution_count": 12
        }
      ]
    },
    {
      "cell_type": "markdown",
      "metadata": {
        "id": "fR2-JQPZ7WZK"
      },
      "source": [
        "**Display the index, columns:**"
      ]
    },
    {
      "cell_type": "code",
      "metadata": {
        "id": "bX7x2-cv7XZK",
        "outputId": "f53d0209-bcc8-4d4a-8c94-2963163ee302",
        "colab": {
          "base_uri": "https://localhost:8080/",
          "height": 68
        }
      },
      "source": [
        "df.index"
      ],
      "execution_count": 13,
      "outputs": [
        {
          "output_type": "execute_result",
          "data": {
            "text/plain": [
              "DatetimeIndex(['2013-01-01', '2013-01-02', '2013-01-03', '2013-01-04',\n",
              "               '2013-01-05', '2013-01-06'],\n",
              "              dtype='datetime64[ns]', freq='D')"
            ]
          },
          "metadata": {
            "tags": []
          },
          "execution_count": 13
        }
      ]
    },
    {
      "cell_type": "code",
      "metadata": {
        "id": "dj3y74CM7Zaq",
        "outputId": "ca119732-0afe-496c-f378-1ef6cd0bcf4d",
        "colab": {
          "base_uri": "https://localhost:8080/",
          "height": 34
        }
      },
      "source": [
        "df.columns"
      ],
      "execution_count": 14,
      "outputs": [
        {
          "output_type": "execute_result",
          "data": {
            "text/plain": [
              "Index(['A', 'B', 'C', 'D'], dtype='object')"
            ]
          },
          "metadata": {
            "tags": []
          },
          "execution_count": 14
        }
      ]
    },
    {
      "cell_type": "markdown",
      "metadata": {
        "id": "wgRqBVKZ7dT7"
      },
      "source": [
        "**For df, our DataFrame of all floating-point values, DataFrame.to_numpy() is fast and doesn’t require copying data.**"
      ]
    },
    {
      "cell_type": "code",
      "metadata": {
        "id": "rg-C3e_P7efU",
        "outputId": "f1ff8d5d-758f-4f59-9b34-832290630f9e",
        "colab": {
          "base_uri": "https://localhost:8080/",
          "height": 119
        }
      },
      "source": [
        "df.to_numpy()"
      ],
      "execution_count": 15,
      "outputs": [
        {
          "output_type": "execute_result",
          "data": {
            "text/plain": [
              "array([[ 0.94020172,  0.0960394 ,  0.39603374,  0.61613586],\n",
              "       [-1.6530349 ,  0.01969858, -0.0580049 , -0.57217887],\n",
              "       [ 2.12111014,  2.74893884, -0.53757281, -0.67918217],\n",
              "       [ 0.83599277, -0.49367786, -0.23425996,  1.73553347],\n",
              "       [ 0.80588693,  1.80529721,  2.61232879,  0.61278282],\n",
              "       [ 0.50513863,  0.31662563,  0.75551279, -0.30743729]])"
            ]
          },
          "metadata": {
            "tags": []
          },
          "execution_count": 15
        }
      ]
    },
    {
      "cell_type": "markdown",
      "metadata": {
        "id": "IAKJu9lw7hhi"
      },
      "source": [
        "**For df2, the DataFrame with multiple dtypes, DataFrame.to_numpy() is relatively expensive.**"
      ]
    },
    {
      "cell_type": "code",
      "metadata": {
        "id": "3wIxa-SH7iuw",
        "outputId": "5eb11ca0-a06e-49c9-ae67-dece0667156c",
        "colab": {
          "base_uri": "https://localhost:8080/",
          "height": 102
        }
      },
      "source": [
        "df2.to_numpy()"
      ],
      "execution_count": 16,
      "outputs": [
        {
          "output_type": "execute_result",
          "data": {
            "text/plain": [
              "array([[1.0, Timestamp('2020-10-12 00:00:00'), 1.0, 3, 'test', 'foo'],\n",
              "       [1.0, Timestamp('2020-10-12 00:00:00'), 1.0, 3, 'train', 'foo'],\n",
              "       [1.0, Timestamp('2020-10-12 00:00:00'), 1.0, 3, 'test', 'foo'],\n",
              "       [1.0, Timestamp('2020-10-12 00:00:00'), 1.0, 3, 'train', 'foo']],\n",
              "      dtype=object)"
            ]
          },
          "metadata": {
            "tags": []
          },
          "execution_count": 16
        }
      ]
    },
    {
      "cell_type": "markdown",
      "metadata": {
        "id": "p2NM0vD87usK"
      },
      "source": [
        "**describe() shows a quick statistic summary of your data:**"
      ]
    },
    {
      "cell_type": "code",
      "metadata": {
        "id": "32Sz3DcY7v44",
        "outputId": "391e98cd-69ce-4c6f-ee32-f5fed439344a",
        "colab": {
          "base_uri": "https://localhost:8080/",
          "height": 297
        }
      },
      "source": [
        "df.describe()"
      ],
      "execution_count": 17,
      "outputs": [
        {
          "output_type": "execute_result",
          "data": {
            "text/html": [
              "<div>\n",
              "<style scoped>\n",
              "    .dataframe tbody tr th:only-of-type {\n",
              "        vertical-align: middle;\n",
              "    }\n",
              "\n",
              "    .dataframe tbody tr th {\n",
              "        vertical-align: top;\n",
              "    }\n",
              "\n",
              "    .dataframe thead th {\n",
              "        text-align: right;\n",
              "    }\n",
              "</style>\n",
              "<table border=\"1\" class=\"dataframe\">\n",
              "  <thead>\n",
              "    <tr style=\"text-align: right;\">\n",
              "      <th></th>\n",
              "      <th>A</th>\n",
              "      <th>B</th>\n",
              "      <th>C</th>\n",
              "      <th>D</th>\n",
              "    </tr>\n",
              "  </thead>\n",
              "  <tbody>\n",
              "    <tr>\n",
              "      <th>count</th>\n",
              "      <td>6.000000</td>\n",
              "      <td>6.000000</td>\n",
              "      <td>6.000000</td>\n",
              "      <td>6.000000</td>\n",
              "    </tr>\n",
              "    <tr>\n",
              "      <th>mean</th>\n",
              "      <td>0.592549</td>\n",
              "      <td>0.748820</td>\n",
              "      <td>0.489006</td>\n",
              "      <td>0.234276</td>\n",
              "    </tr>\n",
              "    <tr>\n",
              "      <th>std</th>\n",
              "      <td>1.233890</td>\n",
              "      <td>1.249396</td>\n",
              "      <td>1.137046</td>\n",
              "      <td>0.929633</td>\n",
              "    </tr>\n",
              "    <tr>\n",
              "      <th>min</th>\n",
              "      <td>-1.653035</td>\n",
              "      <td>-0.493678</td>\n",
              "      <td>-0.537573</td>\n",
              "      <td>-0.679182</td>\n",
              "    </tr>\n",
              "    <tr>\n",
              "      <th>25%</th>\n",
              "      <td>0.580326</td>\n",
              "      <td>0.038784</td>\n",
              "      <td>-0.190196</td>\n",
              "      <td>-0.505993</td>\n",
              "    </tr>\n",
              "    <tr>\n",
              "      <th>50%</th>\n",
              "      <td>0.820940</td>\n",
              "      <td>0.206333</td>\n",
              "      <td>0.169014</td>\n",
              "      <td>0.152673</td>\n",
              "    </tr>\n",
              "    <tr>\n",
              "      <th>75%</th>\n",
              "      <td>0.914149</td>\n",
              "      <td>1.433129</td>\n",
              "      <td>0.665643</td>\n",
              "      <td>0.615298</td>\n",
              "    </tr>\n",
              "    <tr>\n",
              "      <th>max</th>\n",
              "      <td>2.121110</td>\n",
              "      <td>2.748939</td>\n",
              "      <td>2.612329</td>\n",
              "      <td>1.735533</td>\n",
              "    </tr>\n",
              "  </tbody>\n",
              "</table>\n",
              "</div>"
            ],
            "text/plain": [
              "              A         B         C         D\n",
              "count  6.000000  6.000000  6.000000  6.000000\n",
              "mean   0.592549  0.748820  0.489006  0.234276\n",
              "std    1.233890  1.249396  1.137046  0.929633\n",
              "min   -1.653035 -0.493678 -0.537573 -0.679182\n",
              "25%    0.580326  0.038784 -0.190196 -0.505993\n",
              "50%    0.820940  0.206333  0.169014  0.152673\n",
              "75%    0.914149  1.433129  0.665643  0.615298\n",
              "max    2.121110  2.748939  2.612329  1.735533"
            ]
          },
          "metadata": {
            "tags": []
          },
          "execution_count": 17
        }
      ]
    },
    {
      "cell_type": "markdown",
      "metadata": {
        "id": "BCw7qRrp7zqy"
      },
      "source": [
        "**Transposing your data:**"
      ]
    },
    {
      "cell_type": "code",
      "metadata": {
        "id": "XRGJ4xeP70vj",
        "outputId": "5a84ea85-eca8-46d0-cd09-8b91a7ca8597",
        "colab": {
          "base_uri": "https://localhost:8080/",
          "height": 173
        }
      },
      "source": [
        "df.T"
      ],
      "execution_count": 18,
      "outputs": [
        {
          "output_type": "execute_result",
          "data": {
            "text/html": [
              "<div>\n",
              "<style scoped>\n",
              "    .dataframe tbody tr th:only-of-type {\n",
              "        vertical-align: middle;\n",
              "    }\n",
              "\n",
              "    .dataframe tbody tr th {\n",
              "        vertical-align: top;\n",
              "    }\n",
              "\n",
              "    .dataframe thead th {\n",
              "        text-align: right;\n",
              "    }\n",
              "</style>\n",
              "<table border=\"1\" class=\"dataframe\">\n",
              "  <thead>\n",
              "    <tr style=\"text-align: right;\">\n",
              "      <th></th>\n",
              "      <th>2013-01-01</th>\n",
              "      <th>2013-01-02</th>\n",
              "      <th>2013-01-03</th>\n",
              "      <th>2013-01-04</th>\n",
              "      <th>2013-01-05</th>\n",
              "      <th>2013-01-06</th>\n",
              "    </tr>\n",
              "  </thead>\n",
              "  <tbody>\n",
              "    <tr>\n",
              "      <th>A</th>\n",
              "      <td>0.940202</td>\n",
              "      <td>-1.653035</td>\n",
              "      <td>2.121110</td>\n",
              "      <td>0.835993</td>\n",
              "      <td>0.805887</td>\n",
              "      <td>0.505139</td>\n",
              "    </tr>\n",
              "    <tr>\n",
              "      <th>B</th>\n",
              "      <td>0.096039</td>\n",
              "      <td>0.019699</td>\n",
              "      <td>2.748939</td>\n",
              "      <td>-0.493678</td>\n",
              "      <td>1.805297</td>\n",
              "      <td>0.316626</td>\n",
              "    </tr>\n",
              "    <tr>\n",
              "      <th>C</th>\n",
              "      <td>0.396034</td>\n",
              "      <td>-0.058005</td>\n",
              "      <td>-0.537573</td>\n",
              "      <td>-0.234260</td>\n",
              "      <td>2.612329</td>\n",
              "      <td>0.755513</td>\n",
              "    </tr>\n",
              "    <tr>\n",
              "      <th>D</th>\n",
              "      <td>0.616136</td>\n",
              "      <td>-0.572179</td>\n",
              "      <td>-0.679182</td>\n",
              "      <td>1.735533</td>\n",
              "      <td>0.612783</td>\n",
              "      <td>-0.307437</td>\n",
              "    </tr>\n",
              "  </tbody>\n",
              "</table>\n",
              "</div>"
            ],
            "text/plain": [
              "   2013-01-01  2013-01-02  2013-01-03  2013-01-04  2013-01-05  2013-01-06\n",
              "A    0.940202   -1.653035    2.121110    0.835993    0.805887    0.505139\n",
              "B    0.096039    0.019699    2.748939   -0.493678    1.805297    0.316626\n",
              "C    0.396034   -0.058005   -0.537573   -0.234260    2.612329    0.755513\n",
              "D    0.616136   -0.572179   -0.679182    1.735533    0.612783   -0.307437"
            ]
          },
          "metadata": {
            "tags": []
          },
          "execution_count": 18
        }
      ]
    },
    {
      "cell_type": "markdown",
      "metadata": {
        "id": "6DoyGZf074EK"
      },
      "source": [
        "**Sorting by an axis:**"
      ]
    },
    {
      "cell_type": "code",
      "metadata": {
        "id": "wHnrN8Li75DZ",
        "outputId": "8ca48778-0209-49f5-bca4-d5f807b432ab",
        "colab": {
          "base_uri": "https://localhost:8080/",
          "height": 235
        }
      },
      "source": [
        "df.sort_index(axis=1, ascending=False)"
      ],
      "execution_count": 19,
      "outputs": [
        {
          "output_type": "execute_result",
          "data": {
            "text/html": [
              "<div>\n",
              "<style scoped>\n",
              "    .dataframe tbody tr th:only-of-type {\n",
              "        vertical-align: middle;\n",
              "    }\n",
              "\n",
              "    .dataframe tbody tr th {\n",
              "        vertical-align: top;\n",
              "    }\n",
              "\n",
              "    .dataframe thead th {\n",
              "        text-align: right;\n",
              "    }\n",
              "</style>\n",
              "<table border=\"1\" class=\"dataframe\">\n",
              "  <thead>\n",
              "    <tr style=\"text-align: right;\">\n",
              "      <th></th>\n",
              "      <th>D</th>\n",
              "      <th>C</th>\n",
              "      <th>B</th>\n",
              "      <th>A</th>\n",
              "    </tr>\n",
              "  </thead>\n",
              "  <tbody>\n",
              "    <tr>\n",
              "      <th>2013-01-01</th>\n",
              "      <td>0.616136</td>\n",
              "      <td>0.396034</td>\n",
              "      <td>0.096039</td>\n",
              "      <td>0.940202</td>\n",
              "    </tr>\n",
              "    <tr>\n",
              "      <th>2013-01-02</th>\n",
              "      <td>-0.572179</td>\n",
              "      <td>-0.058005</td>\n",
              "      <td>0.019699</td>\n",
              "      <td>-1.653035</td>\n",
              "    </tr>\n",
              "    <tr>\n",
              "      <th>2013-01-03</th>\n",
              "      <td>-0.679182</td>\n",
              "      <td>-0.537573</td>\n",
              "      <td>2.748939</td>\n",
              "      <td>2.121110</td>\n",
              "    </tr>\n",
              "    <tr>\n",
              "      <th>2013-01-04</th>\n",
              "      <td>1.735533</td>\n",
              "      <td>-0.234260</td>\n",
              "      <td>-0.493678</td>\n",
              "      <td>0.835993</td>\n",
              "    </tr>\n",
              "    <tr>\n",
              "      <th>2013-01-05</th>\n",
              "      <td>0.612783</td>\n",
              "      <td>2.612329</td>\n",
              "      <td>1.805297</td>\n",
              "      <td>0.805887</td>\n",
              "    </tr>\n",
              "    <tr>\n",
              "      <th>2013-01-06</th>\n",
              "      <td>-0.307437</td>\n",
              "      <td>0.755513</td>\n",
              "      <td>0.316626</td>\n",
              "      <td>0.505139</td>\n",
              "    </tr>\n",
              "  </tbody>\n",
              "</table>\n",
              "</div>"
            ],
            "text/plain": [
              "                   D         C         B         A\n",
              "2013-01-01  0.616136  0.396034  0.096039  0.940202\n",
              "2013-01-02 -0.572179 -0.058005  0.019699 -1.653035\n",
              "2013-01-03 -0.679182 -0.537573  2.748939  2.121110\n",
              "2013-01-04  1.735533 -0.234260 -0.493678  0.835993\n",
              "2013-01-05  0.612783  2.612329  1.805297  0.805887\n",
              "2013-01-06 -0.307437  0.755513  0.316626  0.505139"
            ]
          },
          "metadata": {
            "tags": []
          },
          "execution_count": 19
        }
      ]
    },
    {
      "cell_type": "markdown",
      "metadata": {
        "id": "uUWTn_yy80G1"
      },
      "source": [
        "**Sorting by values:**"
      ]
    },
    {
      "cell_type": "code",
      "metadata": {
        "id": "CCmxOHis81IB",
        "outputId": "6196beb0-eef8-4a1b-b364-6162b0cc10f9",
        "colab": {
          "base_uri": "https://localhost:8080/",
          "height": 235
        }
      },
      "source": [
        "df.sort_values(by='B')"
      ],
      "execution_count": 20,
      "outputs": [
        {
          "output_type": "execute_result",
          "data": {
            "text/html": [
              "<div>\n",
              "<style scoped>\n",
              "    .dataframe tbody tr th:only-of-type {\n",
              "        vertical-align: middle;\n",
              "    }\n",
              "\n",
              "    .dataframe tbody tr th {\n",
              "        vertical-align: top;\n",
              "    }\n",
              "\n",
              "    .dataframe thead th {\n",
              "        text-align: right;\n",
              "    }\n",
              "</style>\n",
              "<table border=\"1\" class=\"dataframe\">\n",
              "  <thead>\n",
              "    <tr style=\"text-align: right;\">\n",
              "      <th></th>\n",
              "      <th>A</th>\n",
              "      <th>B</th>\n",
              "      <th>C</th>\n",
              "      <th>D</th>\n",
              "    </tr>\n",
              "  </thead>\n",
              "  <tbody>\n",
              "    <tr>\n",
              "      <th>2013-01-04</th>\n",
              "      <td>0.835993</td>\n",
              "      <td>-0.493678</td>\n",
              "      <td>-0.234260</td>\n",
              "      <td>1.735533</td>\n",
              "    </tr>\n",
              "    <tr>\n",
              "      <th>2013-01-02</th>\n",
              "      <td>-1.653035</td>\n",
              "      <td>0.019699</td>\n",
              "      <td>-0.058005</td>\n",
              "      <td>-0.572179</td>\n",
              "    </tr>\n",
              "    <tr>\n",
              "      <th>2013-01-01</th>\n",
              "      <td>0.940202</td>\n",
              "      <td>0.096039</td>\n",
              "      <td>0.396034</td>\n",
              "      <td>0.616136</td>\n",
              "    </tr>\n",
              "    <tr>\n",
              "      <th>2013-01-06</th>\n",
              "      <td>0.505139</td>\n",
              "      <td>0.316626</td>\n",
              "      <td>0.755513</td>\n",
              "      <td>-0.307437</td>\n",
              "    </tr>\n",
              "    <tr>\n",
              "      <th>2013-01-05</th>\n",
              "      <td>0.805887</td>\n",
              "      <td>1.805297</td>\n",
              "      <td>2.612329</td>\n",
              "      <td>0.612783</td>\n",
              "    </tr>\n",
              "    <tr>\n",
              "      <th>2013-01-03</th>\n",
              "      <td>2.121110</td>\n",
              "      <td>2.748939</td>\n",
              "      <td>-0.537573</td>\n",
              "      <td>-0.679182</td>\n",
              "    </tr>\n",
              "  </tbody>\n",
              "</table>\n",
              "</div>"
            ],
            "text/plain": [
              "                   A         B         C         D\n",
              "2013-01-04  0.835993 -0.493678 -0.234260  1.735533\n",
              "2013-01-02 -1.653035  0.019699 -0.058005 -0.572179\n",
              "2013-01-01  0.940202  0.096039  0.396034  0.616136\n",
              "2013-01-06  0.505139  0.316626  0.755513 -0.307437\n",
              "2013-01-05  0.805887  1.805297  2.612329  0.612783\n",
              "2013-01-03  2.121110  2.748939 -0.537573 -0.679182"
            ]
          },
          "metadata": {
            "tags": []
          },
          "execution_count": 20
        }
      ]
    },
    {
      "cell_type": "markdown",
      "metadata": {
        "id": "NqLZO5Ud842T"
      },
      "source": [
        "**Getting**"
      ]
    },
    {
      "cell_type": "markdown",
      "metadata": {
        "id": "g5YZy1E385y4"
      },
      "source": [
        "**Selecting a single column, which yields a Series, equivalent to df.A:**"
      ]
    },
    {
      "cell_type": "code",
      "metadata": {
        "id": "G6eoogRw89SJ",
        "outputId": "5ea5c393-160a-4eec-c5c6-8fc4a32c5eb3",
        "colab": {
          "base_uri": "https://localhost:8080/",
          "height": 136
        }
      },
      "source": [
        "df['A']"
      ],
      "execution_count": 21,
      "outputs": [
        {
          "output_type": "execute_result",
          "data": {
            "text/plain": [
              "2013-01-01    0.940202\n",
              "2013-01-02   -1.653035\n",
              "2013-01-03    2.121110\n",
              "2013-01-04    0.835993\n",
              "2013-01-05    0.805887\n",
              "2013-01-06    0.505139\n",
              "Freq: D, Name: A, dtype: float64"
            ]
          },
          "metadata": {
            "tags": []
          },
          "execution_count": 21
        }
      ]
    },
    {
      "cell_type": "markdown",
      "metadata": {
        "id": "iudCyice9AV6"
      },
      "source": [
        "**Selecting via [], which slices the rows.**"
      ]
    },
    {
      "cell_type": "code",
      "metadata": {
        "id": "Sjc_CUbm9BNp",
        "outputId": "961c77c4-0af4-40bf-f763-abd895f15985",
        "colab": {
          "base_uri": "https://localhost:8080/",
          "height": 142
        }
      },
      "source": [
        "df[0:3]"
      ],
      "execution_count": 22,
      "outputs": [
        {
          "output_type": "execute_result",
          "data": {
            "text/html": [
              "<div>\n",
              "<style scoped>\n",
              "    .dataframe tbody tr th:only-of-type {\n",
              "        vertical-align: middle;\n",
              "    }\n",
              "\n",
              "    .dataframe tbody tr th {\n",
              "        vertical-align: top;\n",
              "    }\n",
              "\n",
              "    .dataframe thead th {\n",
              "        text-align: right;\n",
              "    }\n",
              "</style>\n",
              "<table border=\"1\" class=\"dataframe\">\n",
              "  <thead>\n",
              "    <tr style=\"text-align: right;\">\n",
              "      <th></th>\n",
              "      <th>A</th>\n",
              "      <th>B</th>\n",
              "      <th>C</th>\n",
              "      <th>D</th>\n",
              "    </tr>\n",
              "  </thead>\n",
              "  <tbody>\n",
              "    <tr>\n",
              "      <th>2013-01-01</th>\n",
              "      <td>0.940202</td>\n",
              "      <td>0.096039</td>\n",
              "      <td>0.396034</td>\n",
              "      <td>0.616136</td>\n",
              "    </tr>\n",
              "    <tr>\n",
              "      <th>2013-01-02</th>\n",
              "      <td>-1.653035</td>\n",
              "      <td>0.019699</td>\n",
              "      <td>-0.058005</td>\n",
              "      <td>-0.572179</td>\n",
              "    </tr>\n",
              "    <tr>\n",
              "      <th>2013-01-03</th>\n",
              "      <td>2.121110</td>\n",
              "      <td>2.748939</td>\n",
              "      <td>-0.537573</td>\n",
              "      <td>-0.679182</td>\n",
              "    </tr>\n",
              "  </tbody>\n",
              "</table>\n",
              "</div>"
            ],
            "text/plain": [
              "                   A         B         C         D\n",
              "2013-01-01  0.940202  0.096039  0.396034  0.616136\n",
              "2013-01-02 -1.653035  0.019699 -0.058005 -0.572179\n",
              "2013-01-03  2.121110  2.748939 -0.537573 -0.679182"
            ]
          },
          "metadata": {
            "tags": []
          },
          "execution_count": 22
        }
      ]
    },
    {
      "cell_type": "code",
      "metadata": {
        "id": "3MGciiee9D9n",
        "outputId": "093fc393-cbbb-4ced-e875-1af7bf085560",
        "colab": {
          "base_uri": "https://localhost:8080/",
          "height": 142
        }
      },
      "source": [
        "df['20130102':'20130104']"
      ],
      "execution_count": 23,
      "outputs": [
        {
          "output_type": "execute_result",
          "data": {
            "text/html": [
              "<div>\n",
              "<style scoped>\n",
              "    .dataframe tbody tr th:only-of-type {\n",
              "        vertical-align: middle;\n",
              "    }\n",
              "\n",
              "    .dataframe tbody tr th {\n",
              "        vertical-align: top;\n",
              "    }\n",
              "\n",
              "    .dataframe thead th {\n",
              "        text-align: right;\n",
              "    }\n",
              "</style>\n",
              "<table border=\"1\" class=\"dataframe\">\n",
              "  <thead>\n",
              "    <tr style=\"text-align: right;\">\n",
              "      <th></th>\n",
              "      <th>A</th>\n",
              "      <th>B</th>\n",
              "      <th>C</th>\n",
              "      <th>D</th>\n",
              "    </tr>\n",
              "  </thead>\n",
              "  <tbody>\n",
              "    <tr>\n",
              "      <th>2013-01-02</th>\n",
              "      <td>-1.653035</td>\n",
              "      <td>0.019699</td>\n",
              "      <td>-0.058005</td>\n",
              "      <td>-0.572179</td>\n",
              "    </tr>\n",
              "    <tr>\n",
              "      <th>2013-01-03</th>\n",
              "      <td>2.121110</td>\n",
              "      <td>2.748939</td>\n",
              "      <td>-0.537573</td>\n",
              "      <td>-0.679182</td>\n",
              "    </tr>\n",
              "    <tr>\n",
              "      <th>2013-01-04</th>\n",
              "      <td>0.835993</td>\n",
              "      <td>-0.493678</td>\n",
              "      <td>-0.234260</td>\n",
              "      <td>1.735533</td>\n",
              "    </tr>\n",
              "  </tbody>\n",
              "</table>\n",
              "</div>"
            ],
            "text/plain": [
              "                   A         B         C         D\n",
              "2013-01-02 -1.653035  0.019699 -0.058005 -0.572179\n",
              "2013-01-03  2.121110  2.748939 -0.537573 -0.679182\n",
              "2013-01-04  0.835993 -0.493678 -0.234260  1.735533"
            ]
          },
          "metadata": {
            "tags": []
          },
          "execution_count": 23
        }
      ]
    },
    {
      "cell_type": "markdown",
      "metadata": {
        "id": "gxPp5_0y9ezM"
      },
      "source": [
        "**Selection by label**"
      ]
    },
    {
      "cell_type": "markdown",
      "metadata": {
        "id": "1wrpYx7O9fvT"
      },
      "source": [
        "**For getting a cross section using a label:**"
      ]
    },
    {
      "cell_type": "code",
      "metadata": {
        "id": "2p85v3tD9lL5",
        "outputId": "2b1b65f6-1054-406f-d400-26a79cbc5672",
        "colab": {
          "base_uri": "https://localhost:8080/",
          "height": 102
        }
      },
      "source": [
        "df.loc[dates[0]]"
      ],
      "execution_count": 24,
      "outputs": [
        {
          "output_type": "execute_result",
          "data": {
            "text/plain": [
              "A    0.940202\n",
              "B    0.096039\n",
              "C    0.396034\n",
              "D    0.616136\n",
              "Name: 2013-01-01 00:00:00, dtype: float64"
            ]
          },
          "metadata": {
            "tags": []
          },
          "execution_count": 24
        }
      ]
    },
    {
      "cell_type": "markdown",
      "metadata": {
        "id": "NRqYZxTJ9nQh"
      },
      "source": [
        "**Selecting on a multi-axis by label:**"
      ]
    },
    {
      "cell_type": "code",
      "metadata": {
        "id": "_CaS48Aj9oY6",
        "outputId": "5a2ca11d-8b0a-4a42-d8d1-8828e3120bee",
        "colab": {
          "base_uri": "https://localhost:8080/",
          "height": 235
        }
      },
      "source": [
        "df.loc[:, ['A', 'B']]"
      ],
      "execution_count": 25,
      "outputs": [
        {
          "output_type": "execute_result",
          "data": {
            "text/html": [
              "<div>\n",
              "<style scoped>\n",
              "    .dataframe tbody tr th:only-of-type {\n",
              "        vertical-align: middle;\n",
              "    }\n",
              "\n",
              "    .dataframe tbody tr th {\n",
              "        vertical-align: top;\n",
              "    }\n",
              "\n",
              "    .dataframe thead th {\n",
              "        text-align: right;\n",
              "    }\n",
              "</style>\n",
              "<table border=\"1\" class=\"dataframe\">\n",
              "  <thead>\n",
              "    <tr style=\"text-align: right;\">\n",
              "      <th></th>\n",
              "      <th>A</th>\n",
              "      <th>B</th>\n",
              "    </tr>\n",
              "  </thead>\n",
              "  <tbody>\n",
              "    <tr>\n",
              "      <th>2013-01-01</th>\n",
              "      <td>0.940202</td>\n",
              "      <td>0.096039</td>\n",
              "    </tr>\n",
              "    <tr>\n",
              "      <th>2013-01-02</th>\n",
              "      <td>-1.653035</td>\n",
              "      <td>0.019699</td>\n",
              "    </tr>\n",
              "    <tr>\n",
              "      <th>2013-01-03</th>\n",
              "      <td>2.121110</td>\n",
              "      <td>2.748939</td>\n",
              "    </tr>\n",
              "    <tr>\n",
              "      <th>2013-01-04</th>\n",
              "      <td>0.835993</td>\n",
              "      <td>-0.493678</td>\n",
              "    </tr>\n",
              "    <tr>\n",
              "      <th>2013-01-05</th>\n",
              "      <td>0.805887</td>\n",
              "      <td>1.805297</td>\n",
              "    </tr>\n",
              "    <tr>\n",
              "      <th>2013-01-06</th>\n",
              "      <td>0.505139</td>\n",
              "      <td>0.316626</td>\n",
              "    </tr>\n",
              "  </tbody>\n",
              "</table>\n",
              "</div>"
            ],
            "text/plain": [
              "                   A         B\n",
              "2013-01-01  0.940202  0.096039\n",
              "2013-01-02 -1.653035  0.019699\n",
              "2013-01-03  2.121110  2.748939\n",
              "2013-01-04  0.835993 -0.493678\n",
              "2013-01-05  0.805887  1.805297\n",
              "2013-01-06  0.505139  0.316626"
            ]
          },
          "metadata": {
            "tags": []
          },
          "execution_count": 25
        }
      ]
    },
    {
      "cell_type": "markdown",
      "metadata": {
        "id": "oOOAp_mb9rtL"
      },
      "source": [
        "**Showing label slicing, both endpoints are included:**"
      ]
    },
    {
      "cell_type": "code",
      "metadata": {
        "id": "CXt9NRmm9tIq",
        "outputId": "0643ab78-7213-44f6-d562-c754a5a6c8df",
        "colab": {
          "base_uri": "https://localhost:8080/",
          "height": 142
        }
      },
      "source": [
        "df.loc['20130102':'20130104', ['A', 'B']]"
      ],
      "execution_count": 26,
      "outputs": [
        {
          "output_type": "execute_result",
          "data": {
            "text/html": [
              "<div>\n",
              "<style scoped>\n",
              "    .dataframe tbody tr th:only-of-type {\n",
              "        vertical-align: middle;\n",
              "    }\n",
              "\n",
              "    .dataframe tbody tr th {\n",
              "        vertical-align: top;\n",
              "    }\n",
              "\n",
              "    .dataframe thead th {\n",
              "        text-align: right;\n",
              "    }\n",
              "</style>\n",
              "<table border=\"1\" class=\"dataframe\">\n",
              "  <thead>\n",
              "    <tr style=\"text-align: right;\">\n",
              "      <th></th>\n",
              "      <th>A</th>\n",
              "      <th>B</th>\n",
              "    </tr>\n",
              "  </thead>\n",
              "  <tbody>\n",
              "    <tr>\n",
              "      <th>2013-01-02</th>\n",
              "      <td>-1.653035</td>\n",
              "      <td>0.019699</td>\n",
              "    </tr>\n",
              "    <tr>\n",
              "      <th>2013-01-03</th>\n",
              "      <td>2.121110</td>\n",
              "      <td>2.748939</td>\n",
              "    </tr>\n",
              "    <tr>\n",
              "      <th>2013-01-04</th>\n",
              "      <td>0.835993</td>\n",
              "      <td>-0.493678</td>\n",
              "    </tr>\n",
              "  </tbody>\n",
              "</table>\n",
              "</div>"
            ],
            "text/plain": [
              "                   A         B\n",
              "2013-01-02 -1.653035  0.019699\n",
              "2013-01-03  2.121110  2.748939\n",
              "2013-01-04  0.835993 -0.493678"
            ]
          },
          "metadata": {
            "tags": []
          },
          "execution_count": 26
        }
      ]
    },
    {
      "cell_type": "markdown",
      "metadata": {
        "id": "eSb5zaeY9wgR"
      },
      "source": [
        "**Reduction in the dimensions of the returned object:**"
      ]
    },
    {
      "cell_type": "code",
      "metadata": {
        "id": "EGt2A5WP9xg5",
        "outputId": "5b38a164-1b74-4536-f4a3-fb6b6163b50d",
        "colab": {
          "base_uri": "https://localhost:8080/",
          "height": 68
        }
      },
      "source": [
        "df.loc['20130102', ['A', 'B']]"
      ],
      "execution_count": 27,
      "outputs": [
        {
          "output_type": "execute_result",
          "data": {
            "text/plain": [
              "A   -1.653035\n",
              "B    0.019699\n",
              "Name: 2013-01-02 00:00:00, dtype: float64"
            ]
          },
          "metadata": {
            "tags": []
          },
          "execution_count": 27
        }
      ]
    },
    {
      "cell_type": "markdown",
      "metadata": {
        "id": "tq8xMHnu90gp"
      },
      "source": [
        "**For getting a scalar value:**"
      ]
    },
    {
      "cell_type": "code",
      "metadata": {
        "id": "8JJOMY9H91ci",
        "outputId": "07220bf4-8d4e-4d35-e538-45208f8b871d",
        "colab": {
          "base_uri": "https://localhost:8080/",
          "height": 34
        }
      },
      "source": [
        "df.loc[dates[0], 'A']"
      ],
      "execution_count": 28,
      "outputs": [
        {
          "output_type": "execute_result",
          "data": {
            "text/plain": [
              "0.9402017238810867"
            ]
          },
          "metadata": {
            "tags": []
          },
          "execution_count": 28
        }
      ]
    },
    {
      "cell_type": "markdown",
      "metadata": {
        "id": "bNaFGJcl94dp"
      },
      "source": [
        "**For getting fast access to a scalar (equivalent to the prior method):**"
      ]
    },
    {
      "cell_type": "code",
      "metadata": {
        "id": "56vaf_on95pm",
        "outputId": "4dd10446-d99f-4c73-f9fb-09679bb3b951",
        "colab": {
          "base_uri": "https://localhost:8080/",
          "height": 34
        }
      },
      "source": [
        "df.at[dates[0], 'A']"
      ],
      "execution_count": 29,
      "outputs": [
        {
          "output_type": "execute_result",
          "data": {
            "text/plain": [
              "0.9402017238810867"
            ]
          },
          "metadata": {
            "tags": []
          },
          "execution_count": 29
        }
      ]
    },
    {
      "cell_type": "markdown",
      "metadata": {
        "id": "MmnDzHk39-lx"
      },
      "source": [
        "**Selection by position**"
      ]
    },
    {
      "cell_type": "markdown",
      "metadata": {
        "id": "lIEMfQGM9_rg"
      },
      "source": [
        "**Select via the position of the passed integers:**"
      ]
    },
    {
      "cell_type": "code",
      "metadata": {
        "id": "wTbzP766-Bd4",
        "outputId": "272f0306-acba-4fe4-8749-97e9a7bfb2d0",
        "colab": {
          "base_uri": "https://localhost:8080/",
          "height": 102
        }
      },
      "source": [
        "df.iloc[3]"
      ],
      "execution_count": 30,
      "outputs": [
        {
          "output_type": "execute_result",
          "data": {
            "text/plain": [
              "A    0.835993\n",
              "B   -0.493678\n",
              "C   -0.234260\n",
              "D    1.735533\n",
              "Name: 2013-01-04 00:00:00, dtype: float64"
            ]
          },
          "metadata": {
            "tags": []
          },
          "execution_count": 30
        }
      ]
    },
    {
      "cell_type": "markdown",
      "metadata": {
        "id": "m1nYbWx5-Ek-"
      },
      "source": [
        "**By integer slices, acting similar to numpy/python:**"
      ]
    },
    {
      "cell_type": "code",
      "metadata": {
        "id": "KFljvj8R-GPC",
        "outputId": "8b0e3a48-c342-40dd-e725-7ce8f56a114e",
        "colab": {
          "base_uri": "https://localhost:8080/",
          "height": 111
        }
      },
      "source": [
        " df.iloc[3:5, 0:2]"
      ],
      "execution_count": 31,
      "outputs": [
        {
          "output_type": "execute_result",
          "data": {
            "text/html": [
              "<div>\n",
              "<style scoped>\n",
              "    .dataframe tbody tr th:only-of-type {\n",
              "        vertical-align: middle;\n",
              "    }\n",
              "\n",
              "    .dataframe tbody tr th {\n",
              "        vertical-align: top;\n",
              "    }\n",
              "\n",
              "    .dataframe thead th {\n",
              "        text-align: right;\n",
              "    }\n",
              "</style>\n",
              "<table border=\"1\" class=\"dataframe\">\n",
              "  <thead>\n",
              "    <tr style=\"text-align: right;\">\n",
              "      <th></th>\n",
              "      <th>A</th>\n",
              "      <th>B</th>\n",
              "    </tr>\n",
              "  </thead>\n",
              "  <tbody>\n",
              "    <tr>\n",
              "      <th>2013-01-04</th>\n",
              "      <td>0.835993</td>\n",
              "      <td>-0.493678</td>\n",
              "    </tr>\n",
              "    <tr>\n",
              "      <th>2013-01-05</th>\n",
              "      <td>0.805887</td>\n",
              "      <td>1.805297</td>\n",
              "    </tr>\n",
              "  </tbody>\n",
              "</table>\n",
              "</div>"
            ],
            "text/plain": [
              "                   A         B\n",
              "2013-01-04  0.835993 -0.493678\n",
              "2013-01-05  0.805887  1.805297"
            ]
          },
          "metadata": {
            "tags": []
          },
          "execution_count": 31
        }
      ]
    },
    {
      "cell_type": "markdown",
      "metadata": {
        "id": "M4ffQ9DT-JmR"
      },
      "source": [
        "**By lists of integer position locations, similar to the numpy/python style:**"
      ]
    },
    {
      "cell_type": "code",
      "metadata": {
        "id": "qmgkaDho-Lxt",
        "outputId": "629c30f9-f612-4486-c0be-80b28e7fcbb6",
        "colab": {
          "base_uri": "https://localhost:8080/",
          "height": 142
        }
      },
      "source": [
        "df.iloc[[1, 2, 4], [0, 2]]"
      ],
      "execution_count": 32,
      "outputs": [
        {
          "output_type": "execute_result",
          "data": {
            "text/html": [
              "<div>\n",
              "<style scoped>\n",
              "    .dataframe tbody tr th:only-of-type {\n",
              "        vertical-align: middle;\n",
              "    }\n",
              "\n",
              "    .dataframe tbody tr th {\n",
              "        vertical-align: top;\n",
              "    }\n",
              "\n",
              "    .dataframe thead th {\n",
              "        text-align: right;\n",
              "    }\n",
              "</style>\n",
              "<table border=\"1\" class=\"dataframe\">\n",
              "  <thead>\n",
              "    <tr style=\"text-align: right;\">\n",
              "      <th></th>\n",
              "      <th>A</th>\n",
              "      <th>C</th>\n",
              "    </tr>\n",
              "  </thead>\n",
              "  <tbody>\n",
              "    <tr>\n",
              "      <th>2013-01-02</th>\n",
              "      <td>-1.653035</td>\n",
              "      <td>-0.058005</td>\n",
              "    </tr>\n",
              "    <tr>\n",
              "      <th>2013-01-03</th>\n",
              "      <td>2.121110</td>\n",
              "      <td>-0.537573</td>\n",
              "    </tr>\n",
              "    <tr>\n",
              "      <th>2013-01-05</th>\n",
              "      <td>0.805887</td>\n",
              "      <td>2.612329</td>\n",
              "    </tr>\n",
              "  </tbody>\n",
              "</table>\n",
              "</div>"
            ],
            "text/plain": [
              "                   A         C\n",
              "2013-01-02 -1.653035 -0.058005\n",
              "2013-01-03  2.121110 -0.537573\n",
              "2013-01-05  0.805887  2.612329"
            ]
          },
          "metadata": {
            "tags": []
          },
          "execution_count": 32
        }
      ]
    },
    {
      "cell_type": "markdown",
      "metadata": {
        "id": "q7XRKiRr-O7h"
      },
      "source": [
        "**For slicing rows explicitly:**"
      ]
    },
    {
      "cell_type": "code",
      "metadata": {
        "id": "05HTYI5r-P1I",
        "outputId": "04734794-6eab-4a86-bf25-1edcc1c3775c",
        "colab": {
          "base_uri": "https://localhost:8080/",
          "height": 111
        }
      },
      "source": [
        "df.iloc[1:3, :]"
      ],
      "execution_count": 33,
      "outputs": [
        {
          "output_type": "execute_result",
          "data": {
            "text/html": [
              "<div>\n",
              "<style scoped>\n",
              "    .dataframe tbody tr th:only-of-type {\n",
              "        vertical-align: middle;\n",
              "    }\n",
              "\n",
              "    .dataframe tbody tr th {\n",
              "        vertical-align: top;\n",
              "    }\n",
              "\n",
              "    .dataframe thead th {\n",
              "        text-align: right;\n",
              "    }\n",
              "</style>\n",
              "<table border=\"1\" class=\"dataframe\">\n",
              "  <thead>\n",
              "    <tr style=\"text-align: right;\">\n",
              "      <th></th>\n",
              "      <th>A</th>\n",
              "      <th>B</th>\n",
              "      <th>C</th>\n",
              "      <th>D</th>\n",
              "    </tr>\n",
              "  </thead>\n",
              "  <tbody>\n",
              "    <tr>\n",
              "      <th>2013-01-02</th>\n",
              "      <td>-1.653035</td>\n",
              "      <td>0.019699</td>\n",
              "      <td>-0.058005</td>\n",
              "      <td>-0.572179</td>\n",
              "    </tr>\n",
              "    <tr>\n",
              "      <th>2013-01-03</th>\n",
              "      <td>2.121110</td>\n",
              "      <td>2.748939</td>\n",
              "      <td>-0.537573</td>\n",
              "      <td>-0.679182</td>\n",
              "    </tr>\n",
              "  </tbody>\n",
              "</table>\n",
              "</div>"
            ],
            "text/plain": [
              "                   A         B         C         D\n",
              "2013-01-02 -1.653035  0.019699 -0.058005 -0.572179\n",
              "2013-01-03  2.121110  2.748939 -0.537573 -0.679182"
            ]
          },
          "metadata": {
            "tags": []
          },
          "execution_count": 33
        }
      ]
    },
    {
      "cell_type": "markdown",
      "metadata": {
        "id": "hKSzYteQ-S_m"
      },
      "source": [
        "**For slicing columns explicitly:**"
      ]
    },
    {
      "cell_type": "code",
      "metadata": {
        "id": "WQD_gPrg-T8r",
        "outputId": "11b0584c-7ce7-4fd8-a4af-a1e500e1a562",
        "colab": {
          "base_uri": "https://localhost:8080/",
          "height": 235
        }
      },
      "source": [
        "df.iloc[:, 1:3]"
      ],
      "execution_count": 34,
      "outputs": [
        {
          "output_type": "execute_result",
          "data": {
            "text/html": [
              "<div>\n",
              "<style scoped>\n",
              "    .dataframe tbody tr th:only-of-type {\n",
              "        vertical-align: middle;\n",
              "    }\n",
              "\n",
              "    .dataframe tbody tr th {\n",
              "        vertical-align: top;\n",
              "    }\n",
              "\n",
              "    .dataframe thead th {\n",
              "        text-align: right;\n",
              "    }\n",
              "</style>\n",
              "<table border=\"1\" class=\"dataframe\">\n",
              "  <thead>\n",
              "    <tr style=\"text-align: right;\">\n",
              "      <th></th>\n",
              "      <th>B</th>\n",
              "      <th>C</th>\n",
              "    </tr>\n",
              "  </thead>\n",
              "  <tbody>\n",
              "    <tr>\n",
              "      <th>2013-01-01</th>\n",
              "      <td>0.096039</td>\n",
              "      <td>0.396034</td>\n",
              "    </tr>\n",
              "    <tr>\n",
              "      <th>2013-01-02</th>\n",
              "      <td>0.019699</td>\n",
              "      <td>-0.058005</td>\n",
              "    </tr>\n",
              "    <tr>\n",
              "      <th>2013-01-03</th>\n",
              "      <td>2.748939</td>\n",
              "      <td>-0.537573</td>\n",
              "    </tr>\n",
              "    <tr>\n",
              "      <th>2013-01-04</th>\n",
              "      <td>-0.493678</td>\n",
              "      <td>-0.234260</td>\n",
              "    </tr>\n",
              "    <tr>\n",
              "      <th>2013-01-05</th>\n",
              "      <td>1.805297</td>\n",
              "      <td>2.612329</td>\n",
              "    </tr>\n",
              "    <tr>\n",
              "      <th>2013-01-06</th>\n",
              "      <td>0.316626</td>\n",
              "      <td>0.755513</td>\n",
              "    </tr>\n",
              "  </tbody>\n",
              "</table>\n",
              "</div>"
            ],
            "text/plain": [
              "                   B         C\n",
              "2013-01-01  0.096039  0.396034\n",
              "2013-01-02  0.019699 -0.058005\n",
              "2013-01-03  2.748939 -0.537573\n",
              "2013-01-04 -0.493678 -0.234260\n",
              "2013-01-05  1.805297  2.612329\n",
              "2013-01-06  0.316626  0.755513"
            ]
          },
          "metadata": {
            "tags": []
          },
          "execution_count": 34
        }
      ]
    },
    {
      "cell_type": "markdown",
      "metadata": {
        "id": "ItBbIrHO-Vop"
      },
      "source": [
        "**For getting a value explicitly:**"
      ]
    },
    {
      "cell_type": "code",
      "metadata": {
        "id": "fHD4YRU--XvB",
        "outputId": "59d07465-2989-4e9d-efef-331a88610f28",
        "colab": {
          "base_uri": "https://localhost:8080/",
          "height": 34
        }
      },
      "source": [
        "df.iloc[1, 1]"
      ],
      "execution_count": 35,
      "outputs": [
        {
          "output_type": "execute_result",
          "data": {
            "text/plain": [
              "0.019698578912221255"
            ]
          },
          "metadata": {
            "tags": []
          },
          "execution_count": 35
        }
      ]
    },
    {
      "cell_type": "markdown",
      "metadata": {
        "id": "bFbMWwPA-aX8"
      },
      "source": [
        "**For getting fast access to a scalar (equivalent to the prior method):**"
      ]
    },
    {
      "cell_type": "code",
      "metadata": {
        "id": "7b_crtZM-bl5",
        "outputId": "dd87979e-063a-4176-da23-afe4eea98fc5",
        "colab": {
          "base_uri": "https://localhost:8080/",
          "height": 34
        }
      },
      "source": [
        "df.iat[1, 1]"
      ],
      "execution_count": 36,
      "outputs": [
        {
          "output_type": "execute_result",
          "data": {
            "text/plain": [
              "0.019698578912221255"
            ]
          },
          "metadata": {
            "tags": []
          },
          "execution_count": 36
        }
      ]
    },
    {
      "cell_type": "markdown",
      "metadata": {
        "id": "GD0uFwmq_adb"
      },
      "source": [
        "**Boolean indexing**"
      ]
    },
    {
      "cell_type": "markdown",
      "metadata": {
        "id": "PSfYu2e7_bhZ"
      },
      "source": [
        "**Using a single column’s values to select data.**"
      ]
    },
    {
      "cell_type": "code",
      "metadata": {
        "id": "sKnv6BTp_deJ",
        "outputId": "81ef918e-8ca2-4510-9985-48c4589f563e",
        "colab": {
          "base_uri": "https://localhost:8080/",
          "height": 204
        }
      },
      "source": [
        "df[df['A'] > 0]"
      ],
      "execution_count": 37,
      "outputs": [
        {
          "output_type": "execute_result",
          "data": {
            "text/html": [
              "<div>\n",
              "<style scoped>\n",
              "    .dataframe tbody tr th:only-of-type {\n",
              "        vertical-align: middle;\n",
              "    }\n",
              "\n",
              "    .dataframe tbody tr th {\n",
              "        vertical-align: top;\n",
              "    }\n",
              "\n",
              "    .dataframe thead th {\n",
              "        text-align: right;\n",
              "    }\n",
              "</style>\n",
              "<table border=\"1\" class=\"dataframe\">\n",
              "  <thead>\n",
              "    <tr style=\"text-align: right;\">\n",
              "      <th></th>\n",
              "      <th>A</th>\n",
              "      <th>B</th>\n",
              "      <th>C</th>\n",
              "      <th>D</th>\n",
              "    </tr>\n",
              "  </thead>\n",
              "  <tbody>\n",
              "    <tr>\n",
              "      <th>2013-01-01</th>\n",
              "      <td>0.940202</td>\n",
              "      <td>0.096039</td>\n",
              "      <td>0.396034</td>\n",
              "      <td>0.616136</td>\n",
              "    </tr>\n",
              "    <tr>\n",
              "      <th>2013-01-03</th>\n",
              "      <td>2.121110</td>\n",
              "      <td>2.748939</td>\n",
              "      <td>-0.537573</td>\n",
              "      <td>-0.679182</td>\n",
              "    </tr>\n",
              "    <tr>\n",
              "      <th>2013-01-04</th>\n",
              "      <td>0.835993</td>\n",
              "      <td>-0.493678</td>\n",
              "      <td>-0.234260</td>\n",
              "      <td>1.735533</td>\n",
              "    </tr>\n",
              "    <tr>\n",
              "      <th>2013-01-05</th>\n",
              "      <td>0.805887</td>\n",
              "      <td>1.805297</td>\n",
              "      <td>2.612329</td>\n",
              "      <td>0.612783</td>\n",
              "    </tr>\n",
              "    <tr>\n",
              "      <th>2013-01-06</th>\n",
              "      <td>0.505139</td>\n",
              "      <td>0.316626</td>\n",
              "      <td>0.755513</td>\n",
              "      <td>-0.307437</td>\n",
              "    </tr>\n",
              "  </tbody>\n",
              "</table>\n",
              "</div>"
            ],
            "text/plain": [
              "                   A         B         C         D\n",
              "2013-01-01  0.940202  0.096039  0.396034  0.616136\n",
              "2013-01-03  2.121110  2.748939 -0.537573 -0.679182\n",
              "2013-01-04  0.835993 -0.493678 -0.234260  1.735533\n",
              "2013-01-05  0.805887  1.805297  2.612329  0.612783\n",
              "2013-01-06  0.505139  0.316626  0.755513 -0.307437"
            ]
          },
          "metadata": {
            "tags": []
          },
          "execution_count": 37
        }
      ]
    },
    {
      "cell_type": "markdown",
      "metadata": {
        "id": "WaeXcoc0_gf6"
      },
      "source": [
        "**Selecting values from a DataFrame where a boolean condition is met.**"
      ]
    },
    {
      "cell_type": "code",
      "metadata": {
        "id": "HzAylt6N_hfi",
        "outputId": "27359332-817c-4253-9cf8-23dbbd48c68c",
        "colab": {
          "base_uri": "https://localhost:8080/",
          "height": 235
        }
      },
      "source": [
        "df[df > 0]"
      ],
      "execution_count": 38,
      "outputs": [
        {
          "output_type": "execute_result",
          "data": {
            "text/html": [
              "<div>\n",
              "<style scoped>\n",
              "    .dataframe tbody tr th:only-of-type {\n",
              "        vertical-align: middle;\n",
              "    }\n",
              "\n",
              "    .dataframe tbody tr th {\n",
              "        vertical-align: top;\n",
              "    }\n",
              "\n",
              "    .dataframe thead th {\n",
              "        text-align: right;\n",
              "    }\n",
              "</style>\n",
              "<table border=\"1\" class=\"dataframe\">\n",
              "  <thead>\n",
              "    <tr style=\"text-align: right;\">\n",
              "      <th></th>\n",
              "      <th>A</th>\n",
              "      <th>B</th>\n",
              "      <th>C</th>\n",
              "      <th>D</th>\n",
              "    </tr>\n",
              "  </thead>\n",
              "  <tbody>\n",
              "    <tr>\n",
              "      <th>2013-01-01</th>\n",
              "      <td>0.940202</td>\n",
              "      <td>0.096039</td>\n",
              "      <td>0.396034</td>\n",
              "      <td>0.616136</td>\n",
              "    </tr>\n",
              "    <tr>\n",
              "      <th>2013-01-02</th>\n",
              "      <td>NaN</td>\n",
              "      <td>0.019699</td>\n",
              "      <td>NaN</td>\n",
              "      <td>NaN</td>\n",
              "    </tr>\n",
              "    <tr>\n",
              "      <th>2013-01-03</th>\n",
              "      <td>2.121110</td>\n",
              "      <td>2.748939</td>\n",
              "      <td>NaN</td>\n",
              "      <td>NaN</td>\n",
              "    </tr>\n",
              "    <tr>\n",
              "      <th>2013-01-04</th>\n",
              "      <td>0.835993</td>\n",
              "      <td>NaN</td>\n",
              "      <td>NaN</td>\n",
              "      <td>1.735533</td>\n",
              "    </tr>\n",
              "    <tr>\n",
              "      <th>2013-01-05</th>\n",
              "      <td>0.805887</td>\n",
              "      <td>1.805297</td>\n",
              "      <td>2.612329</td>\n",
              "      <td>0.612783</td>\n",
              "    </tr>\n",
              "    <tr>\n",
              "      <th>2013-01-06</th>\n",
              "      <td>0.505139</td>\n",
              "      <td>0.316626</td>\n",
              "      <td>0.755513</td>\n",
              "      <td>NaN</td>\n",
              "    </tr>\n",
              "  </tbody>\n",
              "</table>\n",
              "</div>"
            ],
            "text/plain": [
              "                   A         B         C         D\n",
              "2013-01-01  0.940202  0.096039  0.396034  0.616136\n",
              "2013-01-02       NaN  0.019699       NaN       NaN\n",
              "2013-01-03  2.121110  2.748939       NaN       NaN\n",
              "2013-01-04  0.835993       NaN       NaN  1.735533\n",
              "2013-01-05  0.805887  1.805297  2.612329  0.612783\n",
              "2013-01-06  0.505139  0.316626  0.755513       NaN"
            ]
          },
          "metadata": {
            "tags": []
          },
          "execution_count": 38
        }
      ]
    },
    {
      "cell_type": "markdown",
      "metadata": {
        "id": "Dqp1IoVT_kUJ"
      },
      "source": [
        "**Using the isin() method for filtering:**"
      ]
    },
    {
      "cell_type": "code",
      "metadata": {
        "id": "SHXeeaH1_lG8",
        "outputId": "f0774fea-f2a3-45a5-931f-f091d673ef4c",
        "colab": {
          "base_uri": "https://localhost:8080/",
          "height": 235
        }
      },
      "source": [
        "df2 = df.copy()\n",
        "df2['E'] = ['one', 'one', 'two', 'three', 'four', 'three']\n",
        "df2"
      ],
      "execution_count": 39,
      "outputs": [
        {
          "output_type": "execute_result",
          "data": {
            "text/html": [
              "<div>\n",
              "<style scoped>\n",
              "    .dataframe tbody tr th:only-of-type {\n",
              "        vertical-align: middle;\n",
              "    }\n",
              "\n",
              "    .dataframe tbody tr th {\n",
              "        vertical-align: top;\n",
              "    }\n",
              "\n",
              "    .dataframe thead th {\n",
              "        text-align: right;\n",
              "    }\n",
              "</style>\n",
              "<table border=\"1\" class=\"dataframe\">\n",
              "  <thead>\n",
              "    <tr style=\"text-align: right;\">\n",
              "      <th></th>\n",
              "      <th>A</th>\n",
              "      <th>B</th>\n",
              "      <th>C</th>\n",
              "      <th>D</th>\n",
              "      <th>E</th>\n",
              "    </tr>\n",
              "  </thead>\n",
              "  <tbody>\n",
              "    <tr>\n",
              "      <th>2013-01-01</th>\n",
              "      <td>0.940202</td>\n",
              "      <td>0.096039</td>\n",
              "      <td>0.396034</td>\n",
              "      <td>0.616136</td>\n",
              "      <td>one</td>\n",
              "    </tr>\n",
              "    <tr>\n",
              "      <th>2013-01-02</th>\n",
              "      <td>-1.653035</td>\n",
              "      <td>0.019699</td>\n",
              "      <td>-0.058005</td>\n",
              "      <td>-0.572179</td>\n",
              "      <td>one</td>\n",
              "    </tr>\n",
              "    <tr>\n",
              "      <th>2013-01-03</th>\n",
              "      <td>2.121110</td>\n",
              "      <td>2.748939</td>\n",
              "      <td>-0.537573</td>\n",
              "      <td>-0.679182</td>\n",
              "      <td>two</td>\n",
              "    </tr>\n",
              "    <tr>\n",
              "      <th>2013-01-04</th>\n",
              "      <td>0.835993</td>\n",
              "      <td>-0.493678</td>\n",
              "      <td>-0.234260</td>\n",
              "      <td>1.735533</td>\n",
              "      <td>three</td>\n",
              "    </tr>\n",
              "    <tr>\n",
              "      <th>2013-01-05</th>\n",
              "      <td>0.805887</td>\n",
              "      <td>1.805297</td>\n",
              "      <td>2.612329</td>\n",
              "      <td>0.612783</td>\n",
              "      <td>four</td>\n",
              "    </tr>\n",
              "    <tr>\n",
              "      <th>2013-01-06</th>\n",
              "      <td>0.505139</td>\n",
              "      <td>0.316626</td>\n",
              "      <td>0.755513</td>\n",
              "      <td>-0.307437</td>\n",
              "      <td>three</td>\n",
              "    </tr>\n",
              "  </tbody>\n",
              "</table>\n",
              "</div>"
            ],
            "text/plain": [
              "                   A         B         C         D      E\n",
              "2013-01-01  0.940202  0.096039  0.396034  0.616136    one\n",
              "2013-01-02 -1.653035  0.019699 -0.058005 -0.572179    one\n",
              "2013-01-03  2.121110  2.748939 -0.537573 -0.679182    two\n",
              "2013-01-04  0.835993 -0.493678 -0.234260  1.735533  three\n",
              "2013-01-05  0.805887  1.805297  2.612329  0.612783   four\n",
              "2013-01-06  0.505139  0.316626  0.755513 -0.307437  three"
            ]
          },
          "metadata": {
            "tags": []
          },
          "execution_count": 39
        }
      ]
    },
    {
      "cell_type": "code",
      "metadata": {
        "id": "A3JdEpTz_yIa",
        "outputId": "ea254c89-e6e3-48e3-ce01-0b91a603b844",
        "colab": {
          "base_uri": "https://localhost:8080/",
          "height": 111
        }
      },
      "source": [
        "df2[df2['E'].isin(['two', 'four'])]"
      ],
      "execution_count": 40,
      "outputs": [
        {
          "output_type": "execute_result",
          "data": {
            "text/html": [
              "<div>\n",
              "<style scoped>\n",
              "    .dataframe tbody tr th:only-of-type {\n",
              "        vertical-align: middle;\n",
              "    }\n",
              "\n",
              "    .dataframe tbody tr th {\n",
              "        vertical-align: top;\n",
              "    }\n",
              "\n",
              "    .dataframe thead th {\n",
              "        text-align: right;\n",
              "    }\n",
              "</style>\n",
              "<table border=\"1\" class=\"dataframe\">\n",
              "  <thead>\n",
              "    <tr style=\"text-align: right;\">\n",
              "      <th></th>\n",
              "      <th>A</th>\n",
              "      <th>B</th>\n",
              "      <th>C</th>\n",
              "      <th>D</th>\n",
              "      <th>E</th>\n",
              "    </tr>\n",
              "  </thead>\n",
              "  <tbody>\n",
              "    <tr>\n",
              "      <th>2013-01-03</th>\n",
              "      <td>2.121110</td>\n",
              "      <td>2.748939</td>\n",
              "      <td>-0.537573</td>\n",
              "      <td>-0.679182</td>\n",
              "      <td>two</td>\n",
              "    </tr>\n",
              "    <tr>\n",
              "      <th>2013-01-05</th>\n",
              "      <td>0.805887</td>\n",
              "      <td>1.805297</td>\n",
              "      <td>2.612329</td>\n",
              "      <td>0.612783</td>\n",
              "      <td>four</td>\n",
              "    </tr>\n",
              "  </tbody>\n",
              "</table>\n",
              "</div>"
            ],
            "text/plain": [
              "                   A         B         C         D     E\n",
              "2013-01-03  2.121110  2.748939 -0.537573 -0.679182   two\n",
              "2013-01-05  0.805887  1.805297  2.612329  0.612783  four"
            ]
          },
          "metadata": {
            "tags": []
          },
          "execution_count": 40
        }
      ]
    },
    {
      "cell_type": "markdown",
      "metadata": {
        "id": "mGC0yjKG_0xR"
      },
      "source": [
        "**Setting**"
      ]
    },
    {
      "cell_type": "markdown",
      "metadata": {
        "id": "Nw43pihl_1iI"
      },
      "source": [
        "**Setting a new column automatically aligns the data by the indexes.**"
      ]
    },
    {
      "cell_type": "code",
      "metadata": {
        "id": "9CSSATIq_3SH",
        "outputId": "46c45bcc-f34a-44ae-a80e-f8079395adb5",
        "colab": {
          "base_uri": "https://localhost:8080/",
          "height": 136
        }
      },
      "source": [
        "s1 = pd.Series([1, 2, 3, 4, 5, 6], index=pd.date_range('20130102', periods=6))\n",
        "s1"
      ],
      "execution_count": 41,
      "outputs": [
        {
          "output_type": "execute_result",
          "data": {
            "text/plain": [
              "2013-01-02    1\n",
              "2013-01-03    2\n",
              "2013-01-04    3\n",
              "2013-01-05    4\n",
              "2013-01-06    5\n",
              "2013-01-07    6\n",
              "Freq: D, dtype: int64"
            ]
          },
          "metadata": {
            "tags": []
          },
          "execution_count": 41
        }
      ]
    },
    {
      "cell_type": "code",
      "metadata": {
        "id": "vCxPBYuh_72a"
      },
      "source": [
        "df['F'] = s1"
      ],
      "execution_count": 42,
      "outputs": []
    },
    {
      "cell_type": "markdown",
      "metadata": {
        "id": "bvtsRzcb_-A8"
      },
      "source": [
        "**Setting values by label:**"
      ]
    },
    {
      "cell_type": "code",
      "metadata": {
        "id": "Jaj6S0JGAAtn"
      },
      "source": [
        "df.at[dates[0], 'A'] = 0"
      ],
      "execution_count": 43,
      "outputs": []
    },
    {
      "cell_type": "markdown",
      "metadata": {
        "id": "qOrAf8YkADpZ"
      },
      "source": [
        "**Setting values by position:**"
      ]
    },
    {
      "cell_type": "code",
      "metadata": {
        "id": "Ih24MNSUAEoj"
      },
      "source": [
        "df.iat[0, 1] = 0"
      ],
      "execution_count": 44,
      "outputs": []
    },
    {
      "cell_type": "markdown",
      "metadata": {
        "id": "nhLKd2TIAHln"
      },
      "source": [
        "**Setting by assigning with a NumPy array:**"
      ]
    },
    {
      "cell_type": "code",
      "metadata": {
        "id": "crzDFAeKAJ5K"
      },
      "source": [
        " df.loc[:, 'D'] = np.array([5] * len(df))"
      ],
      "execution_count": 45,
      "outputs": []
    },
    {
      "cell_type": "markdown",
      "metadata": {
        "id": "J4_-G7MCALzh"
      },
      "source": [
        "**The result of the prior setting operations.**"
      ]
    },
    {
      "cell_type": "code",
      "metadata": {
        "id": "mGDzhEFLAN4O",
        "outputId": "71863a23-d732-47f5-d855-f78b90117cda",
        "colab": {
          "base_uri": "https://localhost:8080/",
          "height": 235
        }
      },
      "source": [
        "df"
      ],
      "execution_count": 46,
      "outputs": [
        {
          "output_type": "execute_result",
          "data": {
            "text/html": [
              "<div>\n",
              "<style scoped>\n",
              "    .dataframe tbody tr th:only-of-type {\n",
              "        vertical-align: middle;\n",
              "    }\n",
              "\n",
              "    .dataframe tbody tr th {\n",
              "        vertical-align: top;\n",
              "    }\n",
              "\n",
              "    .dataframe thead th {\n",
              "        text-align: right;\n",
              "    }\n",
              "</style>\n",
              "<table border=\"1\" class=\"dataframe\">\n",
              "  <thead>\n",
              "    <tr style=\"text-align: right;\">\n",
              "      <th></th>\n",
              "      <th>A</th>\n",
              "      <th>B</th>\n",
              "      <th>C</th>\n",
              "      <th>D</th>\n",
              "      <th>F</th>\n",
              "    </tr>\n",
              "  </thead>\n",
              "  <tbody>\n",
              "    <tr>\n",
              "      <th>2013-01-01</th>\n",
              "      <td>0.000000</td>\n",
              "      <td>0.000000</td>\n",
              "      <td>0.396034</td>\n",
              "      <td>5</td>\n",
              "      <td>NaN</td>\n",
              "    </tr>\n",
              "    <tr>\n",
              "      <th>2013-01-02</th>\n",
              "      <td>-1.653035</td>\n",
              "      <td>0.019699</td>\n",
              "      <td>-0.058005</td>\n",
              "      <td>5</td>\n",
              "      <td>1.0</td>\n",
              "    </tr>\n",
              "    <tr>\n",
              "      <th>2013-01-03</th>\n",
              "      <td>2.121110</td>\n",
              "      <td>2.748939</td>\n",
              "      <td>-0.537573</td>\n",
              "      <td>5</td>\n",
              "      <td>2.0</td>\n",
              "    </tr>\n",
              "    <tr>\n",
              "      <th>2013-01-04</th>\n",
              "      <td>0.835993</td>\n",
              "      <td>-0.493678</td>\n",
              "      <td>-0.234260</td>\n",
              "      <td>5</td>\n",
              "      <td>3.0</td>\n",
              "    </tr>\n",
              "    <tr>\n",
              "      <th>2013-01-05</th>\n",
              "      <td>0.805887</td>\n",
              "      <td>1.805297</td>\n",
              "      <td>2.612329</td>\n",
              "      <td>5</td>\n",
              "      <td>4.0</td>\n",
              "    </tr>\n",
              "    <tr>\n",
              "      <th>2013-01-06</th>\n",
              "      <td>0.505139</td>\n",
              "      <td>0.316626</td>\n",
              "      <td>0.755513</td>\n",
              "      <td>5</td>\n",
              "      <td>5.0</td>\n",
              "    </tr>\n",
              "  </tbody>\n",
              "</table>\n",
              "</div>"
            ],
            "text/plain": [
              "                   A         B         C  D    F\n",
              "2013-01-01  0.000000  0.000000  0.396034  5  NaN\n",
              "2013-01-02 -1.653035  0.019699 -0.058005  5  1.0\n",
              "2013-01-03  2.121110  2.748939 -0.537573  5  2.0\n",
              "2013-01-04  0.835993 -0.493678 -0.234260  5  3.0\n",
              "2013-01-05  0.805887  1.805297  2.612329  5  4.0\n",
              "2013-01-06  0.505139  0.316626  0.755513  5  5.0"
            ]
          },
          "metadata": {
            "tags": []
          },
          "execution_count": 46
        }
      ]
    },
    {
      "cell_type": "markdown",
      "metadata": {
        "id": "t4UZ9JwjAQAq"
      },
      "source": [
        "**A where operation with setting.**"
      ]
    },
    {
      "cell_type": "code",
      "metadata": {
        "id": "uCI9ZsUOARYB",
        "outputId": "32e58add-922d-4ca7-de8c-305020a77e7b",
        "colab": {
          "base_uri": "https://localhost:8080/",
          "height": 235
        }
      },
      "source": [
        "df2 = df.copy()\n",
        "df2[df2 > 0] = -df2\n",
        "df2"
      ],
      "execution_count": 47,
      "outputs": [
        {
          "output_type": "execute_result",
          "data": {
            "text/html": [
              "<div>\n",
              "<style scoped>\n",
              "    .dataframe tbody tr th:only-of-type {\n",
              "        vertical-align: middle;\n",
              "    }\n",
              "\n",
              "    .dataframe tbody tr th {\n",
              "        vertical-align: top;\n",
              "    }\n",
              "\n",
              "    .dataframe thead th {\n",
              "        text-align: right;\n",
              "    }\n",
              "</style>\n",
              "<table border=\"1\" class=\"dataframe\">\n",
              "  <thead>\n",
              "    <tr style=\"text-align: right;\">\n",
              "      <th></th>\n",
              "      <th>A</th>\n",
              "      <th>B</th>\n",
              "      <th>C</th>\n",
              "      <th>D</th>\n",
              "      <th>F</th>\n",
              "    </tr>\n",
              "  </thead>\n",
              "  <tbody>\n",
              "    <tr>\n",
              "      <th>2013-01-01</th>\n",
              "      <td>0.000000</td>\n",
              "      <td>0.000000</td>\n",
              "      <td>-0.396034</td>\n",
              "      <td>-5</td>\n",
              "      <td>NaN</td>\n",
              "    </tr>\n",
              "    <tr>\n",
              "      <th>2013-01-02</th>\n",
              "      <td>-1.653035</td>\n",
              "      <td>-0.019699</td>\n",
              "      <td>-0.058005</td>\n",
              "      <td>-5</td>\n",
              "      <td>-1.0</td>\n",
              "    </tr>\n",
              "    <tr>\n",
              "      <th>2013-01-03</th>\n",
              "      <td>-2.121110</td>\n",
              "      <td>-2.748939</td>\n",
              "      <td>-0.537573</td>\n",
              "      <td>-5</td>\n",
              "      <td>-2.0</td>\n",
              "    </tr>\n",
              "    <tr>\n",
              "      <th>2013-01-04</th>\n",
              "      <td>-0.835993</td>\n",
              "      <td>-0.493678</td>\n",
              "      <td>-0.234260</td>\n",
              "      <td>-5</td>\n",
              "      <td>-3.0</td>\n",
              "    </tr>\n",
              "    <tr>\n",
              "      <th>2013-01-05</th>\n",
              "      <td>-0.805887</td>\n",
              "      <td>-1.805297</td>\n",
              "      <td>-2.612329</td>\n",
              "      <td>-5</td>\n",
              "      <td>-4.0</td>\n",
              "    </tr>\n",
              "    <tr>\n",
              "      <th>2013-01-06</th>\n",
              "      <td>-0.505139</td>\n",
              "      <td>-0.316626</td>\n",
              "      <td>-0.755513</td>\n",
              "      <td>-5</td>\n",
              "      <td>-5.0</td>\n",
              "    </tr>\n",
              "  </tbody>\n",
              "</table>\n",
              "</div>"
            ],
            "text/plain": [
              "                   A         B         C  D    F\n",
              "2013-01-01  0.000000  0.000000 -0.396034 -5  NaN\n",
              "2013-01-02 -1.653035 -0.019699 -0.058005 -5 -1.0\n",
              "2013-01-03 -2.121110 -2.748939 -0.537573 -5 -2.0\n",
              "2013-01-04 -0.835993 -0.493678 -0.234260 -5 -3.0\n",
              "2013-01-05 -0.805887 -1.805297 -2.612329 -5 -4.0\n",
              "2013-01-06 -0.505139 -0.316626 -0.755513 -5 -5.0"
            ]
          },
          "metadata": {
            "tags": []
          },
          "execution_count": 47
        }
      ]
    },
    {
      "cell_type": "markdown",
      "metadata": {
        "id": "XC92-Uc4BSz-"
      },
      "source": [
        "**Missing data**"
      ]
    },
    {
      "cell_type": "markdown",
      "metadata": {
        "id": "ZEr33QrgBUtD"
      },
      "source": [
        "**Reindexing allows you to change/add/delete the index on a specified axis. This returns a copy of the data.**"
      ]
    },
    {
      "cell_type": "code",
      "metadata": {
        "id": "pohe79sBBWvA",
        "outputId": "8e7d88ac-723e-418e-a198-6f42161895aa",
        "colab": {
          "base_uri": "https://localhost:8080/",
          "height": 173
        }
      },
      "source": [
        "df1 = df.reindex(index=dates[0:4], columns=list(df.columns) + ['E'])\n",
        "df1.loc[dates[0]:dates[1], 'E'] = 1\n",
        "df1"
      ],
      "execution_count": 48,
      "outputs": [
        {
          "output_type": "execute_result",
          "data": {
            "text/html": [
              "<div>\n",
              "<style scoped>\n",
              "    .dataframe tbody tr th:only-of-type {\n",
              "        vertical-align: middle;\n",
              "    }\n",
              "\n",
              "    .dataframe tbody tr th {\n",
              "        vertical-align: top;\n",
              "    }\n",
              "\n",
              "    .dataframe thead th {\n",
              "        text-align: right;\n",
              "    }\n",
              "</style>\n",
              "<table border=\"1\" class=\"dataframe\">\n",
              "  <thead>\n",
              "    <tr style=\"text-align: right;\">\n",
              "      <th></th>\n",
              "      <th>A</th>\n",
              "      <th>B</th>\n",
              "      <th>C</th>\n",
              "      <th>D</th>\n",
              "      <th>F</th>\n",
              "      <th>E</th>\n",
              "    </tr>\n",
              "  </thead>\n",
              "  <tbody>\n",
              "    <tr>\n",
              "      <th>2013-01-01</th>\n",
              "      <td>0.000000</td>\n",
              "      <td>0.000000</td>\n",
              "      <td>0.396034</td>\n",
              "      <td>5</td>\n",
              "      <td>NaN</td>\n",
              "      <td>1.0</td>\n",
              "    </tr>\n",
              "    <tr>\n",
              "      <th>2013-01-02</th>\n",
              "      <td>-1.653035</td>\n",
              "      <td>0.019699</td>\n",
              "      <td>-0.058005</td>\n",
              "      <td>5</td>\n",
              "      <td>1.0</td>\n",
              "      <td>1.0</td>\n",
              "    </tr>\n",
              "    <tr>\n",
              "      <th>2013-01-03</th>\n",
              "      <td>2.121110</td>\n",
              "      <td>2.748939</td>\n",
              "      <td>-0.537573</td>\n",
              "      <td>5</td>\n",
              "      <td>2.0</td>\n",
              "      <td>NaN</td>\n",
              "    </tr>\n",
              "    <tr>\n",
              "      <th>2013-01-04</th>\n",
              "      <td>0.835993</td>\n",
              "      <td>-0.493678</td>\n",
              "      <td>-0.234260</td>\n",
              "      <td>5</td>\n",
              "      <td>3.0</td>\n",
              "      <td>NaN</td>\n",
              "    </tr>\n",
              "  </tbody>\n",
              "</table>\n",
              "</div>"
            ],
            "text/plain": [
              "                   A         B         C  D    F    E\n",
              "2013-01-01  0.000000  0.000000  0.396034  5  NaN  1.0\n",
              "2013-01-02 -1.653035  0.019699 -0.058005  5  1.0  1.0\n",
              "2013-01-03  2.121110  2.748939 -0.537573  5  2.0  NaN\n",
              "2013-01-04  0.835993 -0.493678 -0.234260  5  3.0  NaN"
            ]
          },
          "metadata": {
            "tags": []
          },
          "execution_count": 48
        }
      ]
    },
    {
      "cell_type": "markdown",
      "metadata": {
        "id": "um2547jWBapp"
      },
      "source": [
        "**To drop any rows that have missing data.**"
      ]
    },
    {
      "cell_type": "code",
      "metadata": {
        "id": "0dM0P8a6BbYR",
        "outputId": "68cbd9a6-b7eb-4aad-f9ba-51b0bab80552",
        "colab": {
          "base_uri": "https://localhost:8080/",
          "height": 80
        }
      },
      "source": [
        "df1.dropna(how='any')"
      ],
      "execution_count": 49,
      "outputs": [
        {
          "output_type": "execute_result",
          "data": {
            "text/html": [
              "<div>\n",
              "<style scoped>\n",
              "    .dataframe tbody tr th:only-of-type {\n",
              "        vertical-align: middle;\n",
              "    }\n",
              "\n",
              "    .dataframe tbody tr th {\n",
              "        vertical-align: top;\n",
              "    }\n",
              "\n",
              "    .dataframe thead th {\n",
              "        text-align: right;\n",
              "    }\n",
              "</style>\n",
              "<table border=\"1\" class=\"dataframe\">\n",
              "  <thead>\n",
              "    <tr style=\"text-align: right;\">\n",
              "      <th></th>\n",
              "      <th>A</th>\n",
              "      <th>B</th>\n",
              "      <th>C</th>\n",
              "      <th>D</th>\n",
              "      <th>F</th>\n",
              "      <th>E</th>\n",
              "    </tr>\n",
              "  </thead>\n",
              "  <tbody>\n",
              "    <tr>\n",
              "      <th>2013-01-02</th>\n",
              "      <td>-1.653035</td>\n",
              "      <td>0.019699</td>\n",
              "      <td>-0.058005</td>\n",
              "      <td>5</td>\n",
              "      <td>1.0</td>\n",
              "      <td>1.0</td>\n",
              "    </tr>\n",
              "  </tbody>\n",
              "</table>\n",
              "</div>"
            ],
            "text/plain": [
              "                   A         B         C  D    F    E\n",
              "2013-01-02 -1.653035  0.019699 -0.058005  5  1.0  1.0"
            ]
          },
          "metadata": {
            "tags": []
          },
          "execution_count": 49
        }
      ]
    },
    {
      "cell_type": "markdown",
      "metadata": {
        "id": "Lzr94016Bd1r"
      },
      "source": [
        "**Filling missing data.**"
      ]
    },
    {
      "cell_type": "code",
      "metadata": {
        "id": "0wnFWP3yBezy",
        "outputId": "3ccaccec-3a01-48fc-a5f8-bec466dafd94",
        "colab": {
          "base_uri": "https://localhost:8080/",
          "height": 173
        }
      },
      "source": [
        "df1.fillna(value=5)"
      ],
      "execution_count": 50,
      "outputs": [
        {
          "output_type": "execute_result",
          "data": {
            "text/html": [
              "<div>\n",
              "<style scoped>\n",
              "    .dataframe tbody tr th:only-of-type {\n",
              "        vertical-align: middle;\n",
              "    }\n",
              "\n",
              "    .dataframe tbody tr th {\n",
              "        vertical-align: top;\n",
              "    }\n",
              "\n",
              "    .dataframe thead th {\n",
              "        text-align: right;\n",
              "    }\n",
              "</style>\n",
              "<table border=\"1\" class=\"dataframe\">\n",
              "  <thead>\n",
              "    <tr style=\"text-align: right;\">\n",
              "      <th></th>\n",
              "      <th>A</th>\n",
              "      <th>B</th>\n",
              "      <th>C</th>\n",
              "      <th>D</th>\n",
              "      <th>F</th>\n",
              "      <th>E</th>\n",
              "    </tr>\n",
              "  </thead>\n",
              "  <tbody>\n",
              "    <tr>\n",
              "      <th>2013-01-01</th>\n",
              "      <td>0.000000</td>\n",
              "      <td>0.000000</td>\n",
              "      <td>0.396034</td>\n",
              "      <td>5</td>\n",
              "      <td>5.0</td>\n",
              "      <td>1.0</td>\n",
              "    </tr>\n",
              "    <tr>\n",
              "      <th>2013-01-02</th>\n",
              "      <td>-1.653035</td>\n",
              "      <td>0.019699</td>\n",
              "      <td>-0.058005</td>\n",
              "      <td>5</td>\n",
              "      <td>1.0</td>\n",
              "      <td>1.0</td>\n",
              "    </tr>\n",
              "    <tr>\n",
              "      <th>2013-01-03</th>\n",
              "      <td>2.121110</td>\n",
              "      <td>2.748939</td>\n",
              "      <td>-0.537573</td>\n",
              "      <td>5</td>\n",
              "      <td>2.0</td>\n",
              "      <td>5.0</td>\n",
              "    </tr>\n",
              "    <tr>\n",
              "      <th>2013-01-04</th>\n",
              "      <td>0.835993</td>\n",
              "      <td>-0.493678</td>\n",
              "      <td>-0.234260</td>\n",
              "      <td>5</td>\n",
              "      <td>3.0</td>\n",
              "      <td>5.0</td>\n",
              "    </tr>\n",
              "  </tbody>\n",
              "</table>\n",
              "</div>"
            ],
            "text/plain": [
              "                   A         B         C  D    F    E\n",
              "2013-01-01  0.000000  0.000000  0.396034  5  5.0  1.0\n",
              "2013-01-02 -1.653035  0.019699 -0.058005  5  1.0  1.0\n",
              "2013-01-03  2.121110  2.748939 -0.537573  5  2.0  5.0\n",
              "2013-01-04  0.835993 -0.493678 -0.234260  5  3.0  5.0"
            ]
          },
          "metadata": {
            "tags": []
          },
          "execution_count": 50
        }
      ]
    },
    {
      "cell_type": "markdown",
      "metadata": {
        "id": "7Dd7YnLnBiMV"
      },
      "source": [
        "**To get the boolean mask where values are nan.**"
      ]
    },
    {
      "cell_type": "code",
      "metadata": {
        "id": "NZ4fCBxjBjbf",
        "outputId": "182cd921-9582-4806-80cb-70c6e9ac6125",
        "colab": {
          "base_uri": "https://localhost:8080/",
          "height": 173
        }
      },
      "source": [
        "pd.isna(df1)"
      ],
      "execution_count": 51,
      "outputs": [
        {
          "output_type": "execute_result",
          "data": {
            "text/html": [
              "<div>\n",
              "<style scoped>\n",
              "    .dataframe tbody tr th:only-of-type {\n",
              "        vertical-align: middle;\n",
              "    }\n",
              "\n",
              "    .dataframe tbody tr th {\n",
              "        vertical-align: top;\n",
              "    }\n",
              "\n",
              "    .dataframe thead th {\n",
              "        text-align: right;\n",
              "    }\n",
              "</style>\n",
              "<table border=\"1\" class=\"dataframe\">\n",
              "  <thead>\n",
              "    <tr style=\"text-align: right;\">\n",
              "      <th></th>\n",
              "      <th>A</th>\n",
              "      <th>B</th>\n",
              "      <th>C</th>\n",
              "      <th>D</th>\n",
              "      <th>F</th>\n",
              "      <th>E</th>\n",
              "    </tr>\n",
              "  </thead>\n",
              "  <tbody>\n",
              "    <tr>\n",
              "      <th>2013-01-01</th>\n",
              "      <td>False</td>\n",
              "      <td>False</td>\n",
              "      <td>False</td>\n",
              "      <td>False</td>\n",
              "      <td>True</td>\n",
              "      <td>False</td>\n",
              "    </tr>\n",
              "    <tr>\n",
              "      <th>2013-01-02</th>\n",
              "      <td>False</td>\n",
              "      <td>False</td>\n",
              "      <td>False</td>\n",
              "      <td>False</td>\n",
              "      <td>False</td>\n",
              "      <td>False</td>\n",
              "    </tr>\n",
              "    <tr>\n",
              "      <th>2013-01-03</th>\n",
              "      <td>False</td>\n",
              "      <td>False</td>\n",
              "      <td>False</td>\n",
              "      <td>False</td>\n",
              "      <td>False</td>\n",
              "      <td>True</td>\n",
              "    </tr>\n",
              "    <tr>\n",
              "      <th>2013-01-04</th>\n",
              "      <td>False</td>\n",
              "      <td>False</td>\n",
              "      <td>False</td>\n",
              "      <td>False</td>\n",
              "      <td>False</td>\n",
              "      <td>True</td>\n",
              "    </tr>\n",
              "  </tbody>\n",
              "</table>\n",
              "</div>"
            ],
            "text/plain": [
              "                A      B      C      D      F      E\n",
              "2013-01-01  False  False  False  False   True  False\n",
              "2013-01-02  False  False  False  False  False  False\n",
              "2013-01-03  False  False  False  False  False   True\n",
              "2013-01-04  False  False  False  False  False   True"
            ]
          },
          "metadata": {
            "tags": []
          },
          "execution_count": 51
        }
      ]
    }
  ]
}