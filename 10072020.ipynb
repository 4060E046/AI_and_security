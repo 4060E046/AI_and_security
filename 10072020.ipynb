{
  "nbformat": 4,
  "nbformat_minor": 0,
  "metadata": {
    "colab": {
      "name": "10072020.ipynb",
      "provenance": [],
      "collapsed_sections": [],
      "authorship_tag": "ABX9TyOGE8RcR9GstDQzOUhy4C3P",
      "include_colab_link": true
    },
    "kernelspec": {
      "name": "python3",
      "display_name": "Python 3"
    }
  },
  "cells": [
    {
      "cell_type": "markdown",
      "metadata": {
        "id": "view-in-github",
        "colab_type": "text"
      },
      "source": [
        "<a href=\"https://colab.research.google.com/github/4060E046/AI_and_security/blob/master/10072020.ipynb\" target=\"_parent\"><img src=\"https://colab.research.google.com/assets/colab-badge.svg\" alt=\"Open In Colab\"/></a>"
      ]
    },
    {
      "cell_type": "markdown",
      "metadata": {
        "id": "JFFu6frf7BfW"
      },
      "source": [
        "NUMPY ndarray(N-Dimensional Arrays)重要屬性:shape dimension\n",
        "軸 (axis) 與維度 (dimension) "
      ]
    },
    {
      "cell_type": "code",
      "metadata": {
        "id": "mWb_Z2cC679E",
        "outputId": "8dbcf041-aa77-49e7-94a3-6d511b8e4648",
        "colab": {
          "base_uri": "https://localhost:8080/"
        }
      },
      "source": [
        "import numpy as np\n",
        "ar2=np.array([[0,3,5],[2,8,7]])\n",
        "# ar2.shape\n",
        "ar2.ndim"
      ],
      "execution_count": 1,
      "outputs": [
        {
          "output_type": "execute_result",
          "data": {
            "text/plain": [
              "2"
            ]
          },
          "metadata": {
            "tags": []
          },
          "execution_count": 1
        }
      ]
    },
    {
      "cell_type": "markdown",
      "metadata": {
        "id": "4IR0pQEe7L3T"
      },
      "source": [
        "ndarray資料型態(dtype)與型態轉換(astype)"
      ]
    },
    {
      "cell_type": "code",
      "metadata": {
        "id": "bIkzp8bP7JiV",
        "outputId": "d8ec9b5b-aa8a-4127-84d3-4c7e054c5fcd",
        "colab": {
          "base_uri": "https://localhost:8080/"
        }
      },
      "source": [
        "ar=np.array([2,4,6,8]); \n",
        "ar.dtype"
      ],
      "execution_count": 2,
      "outputs": [
        {
          "output_type": "execute_result",
          "data": {
            "text/plain": [
              "dtype('int64')"
            ]
          },
          "metadata": {
            "tags": []
          },
          "execution_count": 2
        }
      ]
    },
    {
      "cell_type": "markdown",
      "metadata": {
        "id": "z6Q1VgpZ7PXy"
      },
      "source": [
        "下列程式執行後的結果為何?"
      ]
    },
    {
      "cell_type": "code",
      "metadata": {
        "id": "5sv7-NbF7P_C",
        "outputId": "1976fe0b-a2ba-4340-a4de-b599be047773",
        "colab": {
          "base_uri": "https://localhost:8080/"
        }
      },
      "source": [
        "f_ar = np.array([13,-3,8.88])\n",
        "f_ar\n",
        "\n",
        "intf_ar=f_ar.astype(int)\n",
        "intf_ar"
      ],
      "execution_count": 3,
      "outputs": [
        {
          "output_type": "execute_result",
          "data": {
            "text/plain": [
              "array([13, -3,  8])"
            ]
          },
          "metadata": {
            "tags": []
          },
          "execution_count": 3
        }
      ]
    },
    {
      "cell_type": "markdown",
      "metadata": {
        "id": "NN5zn9Ho7Ugz"
      },
      "source": [
        "1.使用Python內建的array()建立陣列"
      ]
    },
    {
      "cell_type": "code",
      "metadata": {
        "id": "kWexC_Zy7VR5"
      },
      "source": [
        "import numpy as np\n",
        "x = np.array([[1,2.0],[0,0],(1+1j,3.)])"
      ],
      "execution_count": 5,
      "outputs": []
    },
    {
      "cell_type": "markdown",
      "metadata": {
        "id": "TLYpsaik7bxF"
      },
      "source": [
        "2.使用numpy提供的創建函數建立陣列"
      ]
    },
    {
      "cell_type": "code",
      "metadata": {
        "id": "qIl9NDyW7cNo"
      },
      "source": [
        "eye\n",
        "zeros\n",
        "ones\n",
        "linspace\n",
        "indices\n",
        "diag\n",
        "tile"
      ],
      "execution_count": null,
      "outputs": []
    },
    {
      "cell_type": "code",
      "metadata": {
        "id": "FJXeTMi07iVY",
        "outputId": "f879590a-1fed-4af2-c801-1c6b47adc7ea",
        "colab": {
          "base_uri": "https://localhost:8080/"
        }
      },
      "source": [
        "import numpy as np\n",
        "ar9 = np.eye(3);\n",
        "ar9"
      ],
      "execution_count": 8,
      "outputs": [
        {
          "output_type": "execute_result",
          "data": {
            "text/plain": [
              "array([[1., 0., 0.],\n",
              "       [0., 1., 0.],\n",
              "       [0., 0., 1.]])"
            ]
          },
          "metadata": {
            "tags": []
          },
          "execution_count": 8
        }
      ]
    },
    {
      "cell_type": "markdown",
      "metadata": {
        "id": "2AS-l0SZ7mhY"
      },
      "source": [
        "使用np.zeros建立陣列"
      ]
    },
    {
      "cell_type": "code",
      "metadata": {
        "id": "oNRw-ioe7nGZ",
        "outputId": "162e089c-2008-40f5-efeb-9e84cd313531",
        "colab": {
          "base_uri": "https://localhost:8080/"
        }
      },
      "source": [
        "import numpy as np\n",
        "np.zeros((2, 3))"
      ],
      "execution_count": 9,
      "outputs": [
        {
          "output_type": "execute_result",
          "data": {
            "text/plain": [
              "array([[0., 0., 0.],\n",
              "       [0., 0., 0.]])"
            ]
          },
          "metadata": {
            "tags": []
          },
          "execution_count": 9
        }
      ]
    },
    {
      "cell_type": "markdown",
      "metadata": {
        "id": "BmelXOpz7pKF"
      },
      "source": [
        "使用np.ones建立陣列"
      ]
    },
    {
      "cell_type": "code",
      "metadata": {
        "id": "lrnG53as7q1p",
        "outputId": "59f95a61-a551-4272-de49-3a4c2b5aa6ea",
        "colab": {
          "base_uri": "https://localhost:8080/"
        }
      },
      "source": [
        "import numpy as np\n",
        "np.ones((4, 7))"
      ],
      "execution_count": 10,
      "outputs": [
        {
          "output_type": "execute_result",
          "data": {
            "text/plain": [
              "array([[1., 1., 1., 1., 1., 1., 1.],\n",
              "       [1., 1., 1., 1., 1., 1., 1.],\n",
              "       [1., 1., 1., 1., 1., 1., 1.],\n",
              "       [1., 1., 1., 1., 1., 1., 1.]])"
            ]
          },
          "metadata": {
            "tags": []
          },
          "execution_count": 10
        }
      ]
    },
    {
      "cell_type": "markdown",
      "metadata": {
        "id": "UQ-NfBwl7stY"
      },
      "source": [
        "使用np.arange建立陣列"
      ]
    },
    {
      "cell_type": "code",
      "metadata": {
        "id": "Ell8wW857uHO",
        "outputId": "4bdf36d9-46b5-493d-a3fa-ba30963c4ece",
        "colab": {
          "base_uri": "https://localhost:8080/"
        }
      },
      "source": [
        "import numpy as np\n",
        "np.arange(2, 3, 0.1) # start, end, step"
      ],
      "execution_count": 11,
      "outputs": [
        {
          "output_type": "execute_result",
          "data": {
            "text/plain": [
              "array([2. , 2.1, 2.2, 2.3, 2.4, 2.5, 2.6, 2.7, 2.8, 2.9])"
            ]
          },
          "metadata": {
            "tags": []
          },
          "execution_count": 11
        }
      ]
    },
    {
      "cell_type": "markdown",
      "metadata": {
        "id": "Y2TBvejo7v7D"
      },
      "source": [
        "使用np.linspace建立陣列"
      ]
    },
    {
      "cell_type": "code",
      "metadata": {
        "id": "9Ho4EfE57xjo",
        "outputId": "203c0257-6c75-421a-dd30-863ac9ceb204",
        "colab": {
          "base_uri": "https://localhost:8080/"
        }
      },
      "source": [
        "import numpy as np\n",
        "np.linspace(1., 4., 6) # start, end, num"
      ],
      "execution_count": 12,
      "outputs": [
        {
          "output_type": "execute_result",
          "data": {
            "text/plain": [
              "array([1. , 1.6, 2.2, 2.8, 3.4, 4. ])"
            ]
          },
          "metadata": {
            "tags": []
          },
          "execution_count": 12
        }
      ]
    },
    {
      "cell_type": "markdown",
      "metadata": {
        "id": "zSqm8WEQ7zjZ"
      },
      "source": [
        "使用np.linspace建立陣列"
      ]
    },
    {
      "cell_type": "code",
      "metadata": {
        "id": "GZr55klp71Al",
        "outputId": "659fb1fd-a590-4a78-e97d-56a4efeab4e4",
        "colab": {
          "base_uri": "https://localhost:8080/"
        }
      },
      "source": [
        "import numpy as np\n",
        "np.linspace(2.0, 3.0, num=5)"
      ],
      "execution_count": 13,
      "outputs": [
        {
          "output_type": "execute_result",
          "data": {
            "text/plain": [
              "array([2.  , 2.25, 2.5 , 2.75, 3.  ])"
            ]
          },
          "metadata": {
            "tags": []
          },
          "execution_count": 13
        }
      ]
    },
    {
      "cell_type": "markdown",
      "metadata": {
        "id": "T2Nl9VPb73mo"
      },
      "source": [
        "使用np.linspace建立陣列"
      ]
    },
    {
      "cell_type": "code",
      "metadata": {
        "id": "F82x8Faq76XT",
        "outputId": "1744d1ba-119f-4f5c-fc7b-0b98fb6207da",
        "colab": {
          "base_uri": "https://localhost:8080/"
        }
      },
      "source": [
        "import numpy as np\n",
        "np.linspace(2.0, 3.0, num=5, endpoint=False)"
      ],
      "execution_count": 14,
      "outputs": [
        {
          "output_type": "execute_result",
          "data": {
            "text/plain": [
              "array([2. , 2.2, 2.4, 2.6, 2.8])"
            ]
          },
          "metadata": {
            "tags": []
          },
          "execution_count": 14
        }
      ]
    },
    {
      "cell_type": "markdown",
      "metadata": {
        "id": "2lfBguVD77tw"
      },
      "source": [
        "使用np.linspace建立陣列"
      ]
    },
    {
      "cell_type": "code",
      "metadata": {
        "id": "veK9ufcF79Gd",
        "outputId": "4606a9b7-d2ac-4ed2-8a71-a7b5067ffdf7",
        "colab": {
          "base_uri": "https://localhost:8080/"
        }
      },
      "source": [
        "import numpy as np\n",
        "np.linspace(2.0, 3.0, num=5, retstep=True)"
      ],
      "execution_count": 15,
      "outputs": [
        {
          "output_type": "execute_result",
          "data": {
            "text/plain": [
              "(array([2.  , 2.25, 2.5 , 2.75, 3.  ]), 0.25)"
            ]
          },
          "metadata": {
            "tags": []
          },
          "execution_count": 15
        }
      ]
    },
    {
      "cell_type": "markdown",
      "metadata": {
        "id": "P56Iif7S7_Do"
      },
      "source": [
        "使用np.indices建立陣列"
      ]
    },
    {
      "cell_type": "code",
      "metadata": {
        "id": "mJ1eHsQt8AkR",
        "outputId": "ec35fae0-559a-4f6a-b58c-924274b12ac1",
        "colab": {
          "base_uri": "https://localhost:8080/"
        }
      },
      "source": [
        "import numpy as np\n",
        "np.indices((3, 3))"
      ],
      "execution_count": 16,
      "outputs": [
        {
          "output_type": "execute_result",
          "data": {
            "text/plain": [
              "array([[[0, 0, 0],\n",
              "        [1, 1, 1],\n",
              "        [2, 2, 2]],\n",
              "\n",
              "       [[0, 1, 2],\n",
              "        [0, 1, 2],\n",
              "        [0, 1, 2]]])"
            ]
          },
          "metadata": {
            "tags": []
          },
          "execution_count": 16
        }
      ]
    },
    {
      "cell_type": "markdown",
      "metadata": {
        "id": "zWQ8FbO58EJr"
      },
      "source": [
        "使用np.diag建立陣列"
      ]
    },
    {
      "cell_type": "code",
      "metadata": {
        "id": "UqyVWeQt8ExL",
        "outputId": "0178bd35-9ce9-43b7-afeb-f9e2d4e4eb22",
        "colab": {
          "base_uri": "https://localhost:8080/"
        }
      },
      "source": [
        "import numpy as np\n",
        "ar10=np.diag((2,1,4,6));\n",
        "ar10\n",
        "import numpy as np\n",
        "a = np.array([0, 1, 2])\n",
        "np.tile(a, 2)\n",
        "import numpy as np\n",
        "a = np.array([0, 1, 2])\n",
        "np.tile(a, (2, 2))\n",
        "import numpy as np\n",
        "a = np.array([0, 1, 2])\n",
        "np.tile(a, (2, 1, 2))"
      ],
      "execution_count": 17,
      "outputs": [
        {
          "output_type": "execute_result",
          "data": {
            "text/plain": [
              "array([[[0, 1, 2, 0, 1, 2]],\n",
              "\n",
              "       [[0, 1, 2, 0, 1, 2]]])"
            ]
          },
          "metadata": {
            "tags": []
          },
          "execution_count": 17
        }
      ]
    },
    {
      "cell_type": "markdown",
      "metadata": {
        "id": "0PBltKP38MVT"
      },
      "source": [
        "3.直接生成使用genfromtxt()方法建立陣列"
      ]
    },
    {
      "cell_type": "code",
      "metadata": {
        "id": "VMx1OKxI8NEO",
        "outputId": "6c427fdb-a8f5-47c3-965e-ebd31aa944a1",
        "colab": {
          "base_uri": "https://localhost:8080/"
        }
      },
      "source": [
        "import csv\n",
        "import numpy as np\n",
        "\n",
        "x = '''1,3,2,3,1,2,3,4\n",
        "2,4,5,0.6,5,6,7,8\n",
        "3,7,8,9,9,10,11,12\n",
        "4,1,1.1,1.2,13,14,15,16\n",
        "'''\n",
        "with open(\"abc.txt\",mode=\"w\",encoding=\"utf-8\") as file:\n",
        "  file.write(x)\n",
        "file.close()\n",
        "\n",
        "np.genfromtxt('abc.txt', delimiter=',', invalid_raise = False)"
      ],
      "execution_count": 18,
      "outputs": [
        {
          "output_type": "execute_result",
          "data": {
            "text/plain": [
              "array([[ 1. ,  3. ,  2. ,  3. ,  1. ,  2. ,  3. ,  4. ],\n",
              "       [ 2. ,  4. ,  5. ,  0.6,  5. ,  6. ,  7. ,  8. ],\n",
              "       [ 3. ,  7. ,  8. ,  9. ,  9. , 10. , 11. , 12. ],\n",
              "       [ 4. ,  1. ,  1.1,  1.2, 13. , 14. , 15. , 16. ]])"
            ]
          },
          "metadata": {
            "tags": []
          },
          "execution_count": 18
        }
      ]
    },
    {
      "cell_type": "markdown",
      "metadata": {
        "id": "DHzt9qt48Rck"
      },
      "source": [
        "下列程式執行後的結果為何?"
      ]
    },
    {
      "cell_type": "code",
      "metadata": {
        "id": "rmEo7U2f8R8S",
        "outputId": "e8c72c80-644c-400e-a387-cc33e0c1705b",
        "colab": {
          "base_uri": "https://localhost:8080/"
        }
      },
      "source": [
        "import numpy as np\n",
        "np.tile(np.array([[1,2],[6,7]]),3)\n",
        "import numpy as np\n",
        "np.tile(np.array([[1,2],[6,7]]),(2,2))"
      ],
      "execution_count": 19,
      "outputs": [
        {
          "output_type": "execute_result",
          "data": {
            "text/plain": [
              "array([[1, 2, 1, 2],\n",
              "       [6, 7, 6, 7],\n",
              "       [1, 2, 1, 2],\n",
              "       [6, 7, 6, 7]])"
            ]
          },
          "metadata": {
            "tags": []
          },
          "execution_count": 19
        }
      ]
    },
    {
      "cell_type": "markdown",
      "metadata": {
        "id": "hhRxqWpg8V0Q"
      },
      "source": [
        "下列程式執行後的結果為何?"
      ]
    },
    {
      "cell_type": "code",
      "metadata": {
        "id": "kFTDFq6r8Wj6",
        "outputId": "806a07b6-7ed2-45c6-a7f9-a1ccfd3cdef8",
        "colab": {
          "base_uri": "https://localhost:8080/"
        }
      },
      "source": [
        "import numpy as np\n",
        "np.array([range(i, i + 3) for i in [2, 4, 6]])\n",
        "import numpy as np\n",
        "np.tile(np.array([[1,2],[6,7]]),3)\n",
        "import numpy as np\n",
        "np.tile(np.array([[1,2],[6,7]]),(2,2))"
      ],
      "execution_count": 20,
      "outputs": [
        {
          "output_type": "execute_result",
          "data": {
            "text/plain": [
              "array([[1, 2, 1, 2],\n",
              "       [6, 7, 6, 7],\n",
              "       [1, 2, 1, 2],\n",
              "       [6, 7, 6, 7]])"
            ]
          },
          "metadata": {
            "tags": []
          },
          "execution_count": 20
        }
      ]
    },
    {
      "cell_type": "markdown",
      "metadata": {
        "id": "f2y3MhJB8aue"
      },
      "source": [
        "NUMPY ndarray 運算(Array shape manipulation)"
      ]
    },
    {
      "cell_type": "markdown",
      "metadata": {
        "id": "QCrsA7Ej8hBJ"
      },
      "source": [
        "reshape"
      ]
    },
    {
      "cell_type": "code",
      "metadata": {
        "id": "YnPoBeCn8ieO",
        "outputId": "b1ca7524-1f29-4431-9e45-cd16992666b9",
        "colab": {
          "base_uri": "https://localhost:8080/"
        }
      },
      "source": [
        "import numpy as np\n",
        "x = np.arange(2,10).reshape(2,4)\n",
        "x"
      ],
      "execution_count": 22,
      "outputs": [
        {
          "output_type": "execute_result",
          "data": {
            "text/plain": [
              "array([[2, 3, 4, 5],\n",
              "       [6, 7, 8, 9]])"
            ]
          },
          "metadata": {
            "tags": []
          },
          "execution_count": 22
        }
      ]
    },
    {
      "cell_type": "code",
      "metadata": {
        "id": "0S5r2jth8k2u",
        "outputId": "ca230c35-21a1-4a57-e659-a917e35f2ec9",
        "colab": {
          "base_uri": "https://localhost:8080/"
        }
      },
      "source": [
        "import numpy as np\n",
        "y = np.arange(2,10).reshape(4,2)\n",
        "y"
      ],
      "execution_count": 23,
      "outputs": [
        {
          "output_type": "execute_result",
          "data": {
            "text/plain": [
              "array([[2, 3],\n",
              "       [4, 5],\n",
              "       [6, 7],\n",
              "       [8, 9]])"
            ]
          },
          "metadata": {
            "tags": []
          },
          "execution_count": 23
        }
      ]
    },
    {
      "cell_type": "markdown",
      "metadata": {
        "id": "eZFlaxvS8o6X"
      },
      "source": [
        "ravel"
      ]
    },
    {
      "cell_type": "code",
      "metadata": {
        "id": "JlEFvbmp8pZX",
        "outputId": "38cb8fd9-79df-4926-96ea-158fa2edcfb7",
        "colab": {
          "base_uri": "https://localhost:8080/"
        }
      },
      "source": [
        "import numpy as np\n",
        "ar=np.array([np.arange(1,6),np.arange(10,15)]); \n",
        "ar"
      ],
      "execution_count": 24,
      "outputs": [
        {
          "output_type": "execute_result",
          "data": {
            "text/plain": [
              "array([[ 1,  2,  3,  4,  5],\n",
              "       [10, 11, 12, 13, 14]])"
            ]
          },
          "metadata": {
            "tags": []
          },
          "execution_count": 24
        }
      ]
    },
    {
      "cell_type": "code",
      "metadata": {
        "id": "a2CAhZP98sHO",
        "outputId": "e0dc79e0-8cce-48cf-856b-ee3ae7f52f11",
        "colab": {
          "base_uri": "https://localhost:8080/"
        }
      },
      "source": [
        "import numpy as np\n",
        "ar=np.array([np.arange(1,6),np.arange(10,15)])\n",
        "ar.ravel()"
      ],
      "execution_count": 25,
      "outputs": [
        {
          "output_type": "execute_result",
          "data": {
            "text/plain": [
              "array([ 1,  2,  3,  4,  5, 10, 11, 12, 13, 14])"
            ]
          },
          "metadata": {
            "tags": []
          },
          "execution_count": 25
        }
      ]
    },
    {
      "cell_type": "markdown",
      "metadata": {
        "id": "FpAzPVqQ8t4U"
      },
      "source": [
        "T"
      ]
    },
    {
      "cell_type": "code",
      "metadata": {
        "id": "B26GPp2-8ulv",
        "outputId": "50fa644c-1b5a-4b05-c526-0fef30f327ac",
        "colab": {
          "base_uri": "https://localhost:8080/"
        }
      },
      "source": [
        "import numpy as np\n",
        "ar=np.array([np.arange(1,6),np.arange(10,15)])\n",
        "ar.T"
      ],
      "execution_count": 26,
      "outputs": [
        {
          "output_type": "execute_result",
          "data": {
            "text/plain": [
              "array([[ 1, 10],\n",
              "       [ 2, 11],\n",
              "       [ 3, 12],\n",
              "       [ 4, 13],\n",
              "       [ 5, 14]])"
            ]
          },
          "metadata": {
            "tags": []
          },
          "execution_count": 26
        }
      ]
    },
    {
      "cell_type": "markdown",
      "metadata": {
        "id": "5VRxVyWj8xMf"
      },
      "source": [
        "newaxis"
      ]
    },
    {
      "cell_type": "code",
      "metadata": {
        "id": "kxLiO76L8xwT",
        "outputId": "9ef5ceb5-07ed-4aac-d204-0e452ff18865",
        "colab": {
          "base_uri": "https://localhost:8080/"
        }
      },
      "source": [
        "import numpy as np\n",
        "ar=ar[:, np.newaxis]; ar.shape\n",
        "ar"
      ],
      "execution_count": 27,
      "outputs": [
        {
          "output_type": "execute_result",
          "data": {
            "text/plain": [
              "array([[[ 1,  2,  3,  4,  5]],\n",
              "\n",
              "       [[10, 11, 12, 13, 14]]])"
            ]
          },
          "metadata": {
            "tags": []
          },
          "execution_count": 27
        }
      ]
    },
    {
      "cell_type": "markdown",
      "metadata": {
        "id": "vKBFZvQG80vg"
      },
      "source": [
        "下列程式執行後的結果為何?"
      ]
    },
    {
      "cell_type": "code",
      "metadata": {
        "id": "Wl-4rnoQ81VZ",
        "outputId": "dd66885c-7748-4e6e-fc1d-ccd67d989deb",
        "colab": {
          "base_uri": "https://localhost:8080/"
        }
      },
      "source": [
        "import numpy as np\n",
        "ar=np.array([np.arange(1,6),np.arange(10,15)])\n",
        "ar.T.ravel()"
      ],
      "execution_count": 28,
      "outputs": [
        {
          "output_type": "execute_result",
          "data": {
            "text/plain": [
              "array([ 1, 10,  2, 11,  3, 12,  4, 13,  5, 14])"
            ]
          },
          "metadata": {
            "tags": []
          },
          "execution_count": 28
        }
      ]
    },
    {
      "cell_type": "code",
      "metadata": {
        "id": "LaAiPs_J83RV",
        "outputId": "a5112622-102d-471a-bcb1-fcae7ddd01a2",
        "colab": {
          "base_uri": "https://localhost:8080/"
        }
      },
      "source": [
        "import numpy as np\n",
        "ar=np.array([14,15,16])\n",
        "ar=ar[:, np.newaxis]\n",
        "ar.shape"
      ],
      "execution_count": 29,
      "outputs": [
        {
          "output_type": "execute_result",
          "data": {
            "text/plain": [
              "(3, 1)"
            ]
          },
          "metadata": {
            "tags": []
          },
          "execution_count": 29
        }
      ]
    },
    {
      "cell_type": "markdown",
      "metadata": {
        "id": "vzrm9Z6l9IIq"
      },
      "source": [
        "ndarray的索引(index)與切片運算(slice)"
      ]
    },
    {
      "cell_type": "markdown",
      "metadata": {
        "id": "Jooe47bx9I37"
      },
      "source": [
        "1.索引(index)"
      ]
    },
    {
      "cell_type": "code",
      "metadata": {
        "id": "Ncn1zb8h9Kc2",
        "outputId": "8935c2a6-d674-4023-e79e-d2a56f5e2618",
        "colab": {
          "base_uri": "https://localhost:8080/"
        }
      },
      "source": [
        "import numpy as np\n",
        "x = np.arange(2,10)\n",
        "# x\n",
        "print(x[0])\n",
        "print(x[-2])\n",
        "print(x[-1])\n",
        "import numpy as np\n",
        "ar = np.array([[2,3,4],[9,8,7],[11,12,13]])\n",
        "ar[1,2]"
      ],
      "execution_count": 30,
      "outputs": [
        {
          "output_type": "stream",
          "text": [
            "2\n",
            "8\n",
            "9\n"
          ],
          "name": "stdout"
        },
        {
          "output_type": "execute_result",
          "data": {
            "text/plain": [
              "7"
            ]
          },
          "metadata": {
            "tags": []
          },
          "execution_count": 30
        }
      ]
    },
    {
      "cell_type": "markdown",
      "metadata": {
        "id": "mi7GJAl79N1v"
      },
      "source": [
        "2.切片運算(slice)"
      ]
    },
    {
      "cell_type": "code",
      "metadata": {
        "id": "-StlGFjv9PU1",
        "outputId": "edeac59c-9eeb-4a85-f70f-a0f9131b33ab",
        "colab": {
          "base_uri": "https://localhost:8080/"
        }
      },
      "source": [
        "import numpy as np\n",
        "ar=2*np.arange(6)\n",
        "# ar\n",
        "ar[1:5:2]\n",
        "import numpy as np\n",
        "ar=2*np.arange(6)\n",
        "# ar\n",
        "ar[1:6:2]\n",
        "import numpy as np\n",
        "ar=2*np.arange(6)\n",
        "# ar\n",
        "ar[:4]"
      ],
      "execution_count": 31,
      "outputs": [
        {
          "output_type": "execute_result",
          "data": {
            "text/plain": [
              "array([0, 2, 4, 6])"
            ]
          },
          "metadata": {
            "tags": []
          },
          "execution_count": 31
        }
      ]
    },
    {
      "cell_type": "markdown",
      "metadata": {
        "id": "2rOqhHsT9Zh9"
      },
      "source": [
        "ndarray的Reduction 運算:prod()|sum()|mean()|median()"
      ]
    },
    {
      "cell_type": "markdown",
      "metadata": {
        "id": "HDlN8MzC9cy5"
      },
      "source": [
        "prod()\n",
        "sum()\n",
        "mean()\n",
        "median(ar)"
      ]
    },
    {
      "cell_type": "code",
      "metadata": {
        "id": "d5DIE5M69aly",
        "outputId": "15190723-acef-49f3-9187-6b13ce89e237",
        "colab": {
          "base_uri": "https://localhost:8080/"
        }
      },
      "source": [
        "import numpy as np\n",
        "ar=np.arange(1,5)\n",
        "ar.prod()"
      ],
      "execution_count": 32,
      "outputs": [
        {
          "output_type": "execute_result",
          "data": {
            "text/plain": [
              "24"
            ]
          },
          "metadata": {
            "tags": []
          },
          "execution_count": 32
        }
      ]
    },
    {
      "cell_type": "code",
      "metadata": {
        "id": "W4u22E7M9grN",
        "outputId": "e8a3141e-9b31-4609-e0d7-b66903adf127",
        "colab": {
          "base_uri": "https://localhost:8080/"
        }
      },
      "source": [
        "import numpy as np\n",
        "ar=np.array([[2,3,4],[5,6,7],[8,9,10]])\n",
        "ar.sum()"
      ],
      "execution_count": 33,
      "outputs": [
        {
          "output_type": "execute_result",
          "data": {
            "text/plain": [
              "54"
            ]
          },
          "metadata": {
            "tags": []
          },
          "execution_count": 33
        }
      ]
    },
    {
      "cell_type": "code",
      "metadata": {
        "id": "bsXgQgSK9iLt",
        "outputId": "02657484-fbc4-47f7-f88b-936d5357af8e",
        "colab": {
          "base_uri": "https://localhost:8080/"
        }
      },
      "source": [
        "import numpy as np\n",
        "ar=np.array([[2,3,4],[5,6,7],[8,9,10]])\n",
        "ar.mean()"
      ],
      "execution_count": 34,
      "outputs": [
        {
          "output_type": "execute_result",
          "data": {
            "text/plain": [
              "6.0"
            ]
          },
          "metadata": {
            "tags": []
          },
          "execution_count": 34
        }
      ]
    },
    {
      "cell_type": "code",
      "metadata": {
        "id": "UVJH35wx9jse",
        "outputId": "bd6b8705-3cbd-4bdd-a549-aa53134e5efa",
        "colab": {
          "base_uri": "https://localhost:8080/"
        }
      },
      "source": [
        "import numpy as np\n",
        "ar=np.array([[2,3,4],[5,6,7],[8,9,10]])\n",
        "np.median(ar)"
      ],
      "execution_count": 35,
      "outputs": [
        {
          "output_type": "execute_result",
          "data": {
            "text/plain": [
              "6.0"
            ]
          },
          "metadata": {
            "tags": []
          },
          "execution_count": 35
        }
      ]
    },
    {
      "cell_type": "markdown",
      "metadata": {
        "id": "05cTg8mD9mqW"
      },
      "source": [
        "ufunc(Universal Functions):Fast Element-Wise Array Functions"
      ]
    },
    {
      "cell_type": "markdown",
      "metadata": {
        "id": "iVb_Efs69nRA"
      },
      "source": [
        "sqrt"
      ]
    },
    {
      "cell_type": "code",
      "metadata": {
        "id": "DkRxquok9o1P",
        "outputId": "f9678f37-f37c-4d8c-a40b-6cc4f524dc4e",
        "colab": {
          "base_uri": "https://localhost:8080/"
        }
      },
      "source": [
        "import numpy as np\n",
        "arr = np.arange(10)\n",
        "np.sqrt(arr)"
      ],
      "execution_count": 36,
      "outputs": [
        {
          "output_type": "execute_result",
          "data": {
            "text/plain": [
              "array([0.        , 1.        , 1.41421356, 1.73205081, 2.        ,\n",
              "       2.23606798, 2.44948974, 2.64575131, 2.82842712, 3.        ])"
            ]
          },
          "metadata": {
            "tags": []
          },
          "execution_count": 36
        }
      ]
    },
    {
      "cell_type": "markdown",
      "metadata": {
        "id": "gLejzLU49qvh"
      },
      "source": [
        "exp\n"
      ]
    },
    {
      "cell_type": "code",
      "metadata": {
        "id": "qxAVgY4K9sUp",
        "outputId": "b735f394-a78f-4a25-e317-11a4040d137c",
        "colab": {
          "base_uri": "https://localhost:8080/"
        }
      },
      "source": [
        "import numpy as np\n",
        "arr = np.arange(10)\n",
        "np.exp(arr)"
      ],
      "execution_count": 37,
      "outputs": [
        {
          "output_type": "execute_result",
          "data": {
            "text/plain": [
              "array([1.00000000e+00, 2.71828183e+00, 7.38905610e+00, 2.00855369e+01,\n",
              "       5.45981500e+01, 1.48413159e+02, 4.03428793e+02, 1.09663316e+03,\n",
              "       2.98095799e+03, 8.10308393e+03])"
            ]
          },
          "metadata": {
            "tags": []
          },
          "execution_count": 37
        }
      ]
    },
    {
      "cell_type": "markdown",
      "metadata": {
        "id": "yIaGwphn9vX6"
      },
      "source": [
        "[5]多Numpy ndarray的各種運算(A矩陣與B矩陣間的運算)"
      ]
    },
    {
      "cell_type": "markdown",
      "metadata": {
        "id": "6SgFK7_q9v0l"
      },
      "source": [
        "加法運算"
      ]
    },
    {
      "cell_type": "code",
      "metadata": {
        "id": "W0SYDBqu9w9G",
        "outputId": "9cecd76b-bda8-42b6-b9d8-5627f1f1a49f",
        "colab": {
          "base_uri": "https://localhost:8080/"
        }
      },
      "source": [
        "import numpy as np\n",
        "arr = np.array([[1., 2., 3.], [4., 5., 6.]])\n",
        "# arr\n",
        "arr+arr"
      ],
      "execution_count": 38,
      "outputs": [
        {
          "output_type": "execute_result",
          "data": {
            "text/plain": [
              "array([[ 2.,  4.,  6.],\n",
              "       [ 8., 10., 12.]])"
            ]
          },
          "metadata": {
            "tags": []
          },
          "execution_count": 38
        }
      ]
    },
    {
      "cell_type": "markdown",
      "metadata": {
        "id": "IevV9hvr9z-6"
      },
      "source": [
        "乘法運算"
      ]
    },
    {
      "cell_type": "code",
      "metadata": {
        "id": "VmIUF8AD90ka",
        "outputId": "f1d2f814-77e2-45b4-a47d-49025411091b",
        "colab": {
          "base_uri": "https://localhost:8080/"
        }
      },
      "source": [
        "import numpy as np\n",
        "arr = np.array([[1., 2., 3.], [4., 5., 6.]])\n",
        "# arr\n",
        "arr*arr"
      ],
      "execution_count": 39,
      "outputs": [
        {
          "output_type": "execute_result",
          "data": {
            "text/plain": [
              "array([[ 1.,  4.,  9.],\n",
              "       [16., 25., 36.]])"
            ]
          },
          "metadata": {
            "tags": []
          },
          "execution_count": 39
        }
      ]
    },
    {
      "cell_type": "code",
      "metadata": {
        "id": "2h4oiUx892M6",
        "outputId": "b64bba1e-87c2-4f90-c865-b347f335e669",
        "colab": {
          "base_uri": "https://localhost:8080/"
        }
      },
      "source": [
        "import numpy as np\n",
        "ar=np.array([[1,1],[1,1]])\n",
        "ar2=np.array([[2,2],[2,2]])\n",
        "ar*ar2"
      ],
      "execution_count": 40,
      "outputs": [
        {
          "output_type": "execute_result",
          "data": {
            "text/plain": [
              "array([[2, 2],\n",
              "       [2, 2]])"
            ]
          },
          "metadata": {
            "tags": []
          },
          "execution_count": 40
        }
      ]
    },
    {
      "cell_type": "markdown",
      "metadata": {
        "id": "GSwiZdoi94sh"
      },
      "source": [
        "dot運算"
      ]
    },
    {
      "cell_type": "code",
      "metadata": {
        "id": "DtaVaAEv95Nd",
        "outputId": "7da0cefe-9f7b-49b0-f236-c88c31de22f9",
        "colab": {
          "base_uri": "https://localhost:8080/"
        }
      },
      "source": [
        "import numpy as np\n",
        "ar=np.array([[1,1],[1,1]])\n",
        "ar2=np.array([[2,2],[2,2]])\n",
        "ar.dot(ar2)"
      ],
      "execution_count": 41,
      "outputs": [
        {
          "output_type": "execute_result",
          "data": {
            "text/plain": [
              "array([[4, 4],\n",
              "       [4, 4]])"
            ]
          },
          "metadata": {
            "tags": []
          },
          "execution_count": 41
        }
      ]
    },
    {
      "cell_type": "markdown",
      "metadata": {
        "id": "Th4kuQhC98Nm"
      },
      "source": [
        "[6]ndarray 運算的Broadcasting(廣播機制)"
      ]
    },
    {
      "cell_type": "code",
      "metadata": {
        "id": "50InHIsq98v9",
        "outputId": "378ce50a-638f-4530-d09a-f35cc05d6646",
        "colab": {
          "base_uri": "https://localhost:8080/"
        }
      },
      "source": [
        "import numpy as np\n",
        "x1 = np.arange(9.0).reshape((3, 3))\n",
        "x2 = np.arange(3.0)\n",
        "np.multiply(x1, x2)\n",
        "import numpy as np\n",
        "np.arange(3) + 5\n",
        "import numpy as np\n",
        "np.ones((3, 3)) + np.arange(3)"
      ],
      "execution_count": 42,
      "outputs": [
        {
          "output_type": "execute_result",
          "data": {
            "text/plain": [
              "array([[1., 2., 3.],\n",
              "       [1., 2., 3.],\n",
              "       [1., 2., 3.]])"
            ]
          },
          "metadata": {
            "tags": []
          },
          "execution_count": 42
        }
      ]
    },
    {
      "cell_type": "markdown",
      "metadata": {
        "id": "gZ3PXnJW-BxN"
      },
      "source": [
        "[7]使用<Numpy random模組>產生隨機資料"
      ]
    },
    {
      "cell_type": "code",
      "metadata": {
        "id": "Zzt73LxU-Fa9",
        "outputId": "3b479dff-0a76-413d-8361-1278913b0372",
        "colab": {
          "base_uri": "https://localhost:8080/"
        }
      },
      "source": [
        "import numpy as np\n",
        "np.random.randint(1,5)\n"
      ],
      "execution_count": 44,
      "outputs": [
        {
          "output_type": "execute_result",
          "data": {
            "text/plain": [
              "3"
            ]
          },
          "metadata": {
            "tags": []
          },
          "execution_count": 44
        }
      ]
    },
    {
      "cell_type": "code",
      "metadata": {
        "id": "IeTrk3v4-MIr",
        "outputId": "4c0be7a4-454c-4aac-9f42-8393215119e1",
        "colab": {
          "base_uri": "https://localhost:8080/"
        }
      },
      "source": [
        "import numpy as np\n",
        "np.random.randint(-5,5,size=(2,2))"
      ],
      "execution_count": 45,
      "outputs": [
        {
          "output_type": "execute_result",
          "data": {
            "text/plain": [
              "array([[ 3, -4],\n",
              "       [-4,  2]])"
            ]
          },
          "metadata": {
            "tags": []
          },
          "execution_count": 45
        }
      ]
    },
    {
      "cell_type": "code",
      "metadata": {
        "id": "HP_nMv6N-PeH",
        "outputId": "4bf37aa5-276d-49c0-81ad-21eb063f5304",
        "colab": {
          "base_uri": "https://localhost:8080/"
        }
      },
      "source": [
        "import numpy as np\n",
        "np.random.seed(0)\n",
        "x1 = np.random.randint(10, size=6) \n",
        "x1"
      ],
      "execution_count": 46,
      "outputs": [
        {
          "output_type": "execute_result",
          "data": {
            "text/plain": [
              "array([5, 0, 3, 3, 7, 9])"
            ]
          },
          "metadata": {
            "tags": []
          },
          "execution_count": 46
        }
      ]
    },
    {
      "cell_type": "code",
      "metadata": {
        "id": "QlezaMTt-RGi",
        "outputId": "ff3ea92e-1f20-40e2-84eb-87fdf1b4034f",
        "colab": {
          "base_uri": "https://localhost:8080/"
        }
      },
      "source": [
        "import numpy as np\n",
        "np.random.seed(0)\n",
        "x2 = np.random.randint(10, size=(3, 4))\n",
        "x2"
      ],
      "execution_count": 47,
      "outputs": [
        {
          "output_type": "execute_result",
          "data": {
            "text/plain": [
              "array([[5, 0, 3, 3],\n",
              "       [7, 9, 3, 5],\n",
              "       [2, 4, 7, 6]])"
            ]
          },
          "metadata": {
            "tags": []
          },
          "execution_count": 47
        }
      ]
    },
    {
      "cell_type": "code",
      "metadata": {
        "id": "e3G7ohAn-SvV",
        "outputId": "3fad65bc-4f23-4f21-ed19-287fe0e136dc",
        "colab": {
          "base_uri": "https://localhost:8080/"
        }
      },
      "source": [
        "import numpy as np\n",
        "np.random.seed(0)\n",
        "x3 = np.random.randint(10, size=(3, 4, 5))\n",
        "x3"
      ],
      "execution_count": 48,
      "outputs": [
        {
          "output_type": "execute_result",
          "data": {
            "text/plain": [
              "array([[[5, 0, 3, 3, 7],\n",
              "        [9, 3, 5, 2, 4],\n",
              "        [7, 6, 8, 8, 1],\n",
              "        [6, 7, 7, 8, 1]],\n",
              "\n",
              "       [[5, 9, 8, 9, 4],\n",
              "        [3, 0, 3, 5, 0],\n",
              "        [2, 3, 8, 1, 3],\n",
              "        [3, 3, 7, 0, 1]],\n",
              "\n",
              "       [[9, 9, 0, 4, 7],\n",
              "        [3, 2, 7, 2, 0],\n",
              "        [0, 4, 5, 5, 6],\n",
              "        [8, 4, 1, 4, 9]]])"
            ]
          },
          "metadata": {
            "tags": []
          },
          "execution_count": 48
        }
      ]
    },
    {
      "cell_type": "markdown",
      "metadata": {
        "id": "jZaAnNhS-Wf9"
      },
      "source": [
        "NUMPY ndarray 運算"
      ]
    },
    {
      "cell_type": "code",
      "metadata": {
        "id": "wacyYIIG-XIu",
        "outputId": "65498c22-d1ba-4544-944c-7fe3a4deba47",
        "colab": {
          "base_uri": "https://localhost:8080/"
        }
      },
      "source": [
        "import numpy as np\n",
        "np.convolve([1, 2, 3], [0, 1, 0.5])"
      ],
      "execution_count": 52,
      "outputs": [
        {
          "output_type": "execute_result",
          "data": {
            "text/plain": [
              "array([0. , 1. , 2.5, 4. , 1.5])"
            ]
          },
          "metadata": {
            "tags": []
          },
          "execution_count": 52
        }
      ]
    },
    {
      "cell_type": "code",
      "metadata": {
        "id": "qzNB53kz-hHT",
        "outputId": "cba0aa72-aef6-4e71-e6d1-9fa1bd6b388d",
        "colab": {
          "base_uri": "https://localhost:8080/"
        }
      },
      "source": [
        "import numpy as np\n",
        "np.convolve([1,2,3],[0,1,0.5], 'same')"
      ],
      "execution_count": 53,
      "outputs": [
        {
          "output_type": "execute_result",
          "data": {
            "text/plain": [
              "array([1. , 2.5, 4. ])"
            ]
          },
          "metadata": {
            "tags": []
          },
          "execution_count": 53
        }
      ]
    },
    {
      "cell_type": "code",
      "metadata": {
        "id": "VrYOZYWC-klV",
        "outputId": "a2d2e249-0200-41aa-daa7-b927e66e4149",
        "colab": {
          "base_uri": "https://localhost:8080/"
        }
      },
      "source": [
        "import numpy as np\n",
        "np.convolve([1,2,3],[0,1,0.5], 'valid')"
      ],
      "execution_count": 54,
      "outputs": [
        {
          "output_type": "execute_result",
          "data": {
            "text/plain": [
              "array([2.5])"
            ]
          },
          "metadata": {
            "tags": []
          },
          "execution_count": 54
        }
      ]
    },
    {
      "cell_type": "markdown",
      "metadata": {
        "id": "ZdqtABSc-pAb"
      },
      "source": [
        "NUMPY ndarray(N-Dimensional Arrays)檔案輸入與輸出"
      ]
    },
    {
      "cell_type": "code",
      "metadata": {
        "id": "-FYtEOwg-qB6"
      },
      "source": [
        "https://ithelp.ithome.com.tw/articles/10196167\n",
        "save()\n",
        "load()"
      ],
      "execution_count": null,
      "outputs": []
    },
    {
      "cell_type": "markdown",
      "metadata": {
        "id": "7DgGNnVa-vKa"
      },
      "source": [
        "NUMPY ndarray 運算 - 排序sort"
      ]
    },
    {
      "cell_type": "code",
      "metadata": {
        "id": "5Hk_2nFf-uGQ",
        "outputId": "dfc26d63-0858-48ef-97c5-21122ca077c7",
        "colab": {
          "base_uri": "https://localhost:8080/"
        }
      },
      "source": [
        "import numpy as np\n",
        "ar=np.array([[3,2],[10,-1]])\n",
        "# ar\n",
        "ar.sort(axis=1)\n",
        "ar"
      ],
      "execution_count": 56,
      "outputs": [
        {
          "output_type": "execute_result",
          "data": {
            "text/plain": [
              "array([[ 2,  3],\n",
              "       [-1, 10]])"
            ]
          },
          "metadata": {
            "tags": []
          },
          "execution_count": 56
        }
      ]
    },
    {
      "cell_type": "markdown",
      "metadata": {
        "id": "TyF01sRT-01s"
      },
      "source": [
        "**龍大大 我的億 大樂透 開獎中心**"
      ]
    },
    {
      "cell_type": "code",
      "metadata": {
        "id": "Anhfe_2r-2qF",
        "outputId": "16ead60f-588d-45b7-d8cd-4495cb4853a6",
        "colab": {
          "base_uri": "https://localhost:8080/"
        }
      },
      "source": [
        "import random as rand\n",
        "\n",
        "list1 = rand.sample(range(1,50), 7)\n",
        "\n",
        "special = list1.pop()\n",
        "\n",
        "list1.sort()\n",
        "\n",
        "print(\"龍大大 我的億 大樂透 開獎中心\")\n",
        "print(\"本期大樂透中獎號碼為：\", end=\"\")\n",
        "for i in range(0,6):\n",
        "    if i == 5:    print(str(list1[i]))\n",
        "    else:    print(str(list1[i]), end=\", \")\n",
        "print(\"本期大樂透特別號為：\" + str(special))"
      ],
      "execution_count": 57,
      "outputs": [
        {
          "output_type": "stream",
          "text": [
            "龍大大 我的億 大樂透 開獎中心\n",
            "本期大樂透中獎號碼為：10, 11, 24, 32, 40, 43\n",
            "本期大樂透特別號為：33\n"
          ],
          "name": "stdout"
        }
      ]
    }
  ]
}